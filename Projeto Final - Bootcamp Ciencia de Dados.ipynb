{
 "cells": [
  {
   "cell_type": "markdown",
   "metadata": {},
   "source": [
    "# BOOT CAMP\n",
    "\n",
    "## DESCRIÇÃO DO PROJETO\n",
    "Utilização de ferramentas computacionais de datascience para analisar a participação das mulheres nas eleições no Brasil.\n",
    "\n",
    "## DATASET\n",
    "* http://www.tse.jus.br/eleicoes/estatisticas/repositorio-de-dados-eleitorais-1/repositorio-de-dados-eleitorais\n",
    "\n",
    "## ODS utilizada\n",
    "5.5 garantir a participação plena e efetiva das mulheres e a igualdade de oportunidades para a liderança em todos os níveis de tomada de decisão na vida política, econômica e pública.\n",
    "\n",
    "## HIPÓTESES\n",
    "* Verificar se a proporção de homens e mulheres candidatos é a mesma proporção dos eleitos.\n",
    "* Verificar o quanto as despesas nas campanha influencia no sucesso da candidatura.\n",
    "* Verificar o quanto a correlação entre as variáveis cor, sexo, grau de instrução, estado civil, idade influencia no sucesso da candidatura.\n"
   ]
  },
  {
   "cell_type": "code",
   "execution_count": 638,
   "metadata": {},
   "outputs": [],
   "source": [
    "import pandas as pd\n",
    "import matplotlib.pyplot as plt\n",
    "import seaborn as sns\n",
    "import numpy as np\n",
    "\n",
    "from sklearn.model_selection import train_test_split"
   ]
  },
  {
   "cell_type": "markdown",
   "metadata": {},
   "source": [
    "Linha para mostrar os número sem notação científica"
   ]
  },
  {
   "cell_type": "code",
   "execution_count": 142,
   "metadata": {},
   "outputs": [],
   "source": [
    "pd.set_option(\"display.float_format\", lambda x : \"%.3f\" % x)"
   ]
  },
  {
   "cell_type": "markdown",
   "metadata": {},
   "source": [
    "Ler o arquivo das eleições de 2014"
   ]
  },
  {
   "cell_type": "code",
   "execution_count": 16,
   "metadata": {},
   "outputs": [],
   "source": [
    "candidatos_2014 = pd.read_csv(\"data/consulta_cand_2014_BRASIL.csv\", low_memory=False, sep=';', encoding='latin', parse_dates=[\"DT_GERACAO\"])"
   ]
  },
  {
   "cell_type": "markdown",
   "metadata": {},
   "source": [
    "# Linhas para categorizar as variáveis do DataSet."
   ]
  },
  {
   "cell_type": "code",
   "execution_count": 269,
   "metadata": {},
   "outputs": [],
   "source": [
    "from pandas.api.types import is_string_dtype\n",
    "\n",
    "for n,c in candidatos_2014.items():\n",
    "    if is_string_dtype(c): candidatos_2014[n] = c.astype('category').cat.as_ordered()"
   ]
  },
  {
   "cell_type": "markdown",
   "metadata": {},
   "source": [
    "# Fase exploratória"
   ]
  },
  {
   "cell_type": "code",
   "execution_count": 18,
   "metadata": {
    "scrolled": true
   },
   "outputs": [
    {
     "data": {
      "text/html": [
       "<div>\n",
       "<style scoped>\n",
       "    .dataframe tbody tr th:only-of-type {\n",
       "        vertical-align: middle;\n",
       "    }\n",
       "\n",
       "    .dataframe tbody tr th {\n",
       "        vertical-align: top;\n",
       "    }\n",
       "\n",
       "    .dataframe thead th {\n",
       "        text-align: right;\n",
       "    }\n",
       "</style>\n",
       "<table border=\"1\" class=\"dataframe\">\n",
       "  <thead>\n",
       "    <tr style=\"text-align: right;\">\n",
       "      <th></th>\n",
       "      <th>DT_GERACAO</th>\n",
       "      <th>HH_GERACAO</th>\n",
       "      <th>ANO_ELEICAO</th>\n",
       "      <th>CD_TIPO_ELEICAO</th>\n",
       "      <th>NM_TIPO_ELEICAO</th>\n",
       "      <th>NR_TURNO</th>\n",
       "      <th>CD_ELEICAO</th>\n",
       "      <th>DS_ELEICAO</th>\n",
       "      <th>DT_ELEICAO</th>\n",
       "      <th>TP_ABRANGENCIA</th>\n",
       "      <th>...</th>\n",
       "      <th>DS_COR_RACA</th>\n",
       "      <th>CD_OCUPACAO</th>\n",
       "      <th>DS_OCUPACAO</th>\n",
       "      <th>NR_DESPESA_MAX_CAMPANHA</th>\n",
       "      <th>CD_SIT_TOT_TURNO</th>\n",
       "      <th>DS_SIT_TOT_TURNO</th>\n",
       "      <th>ST_REELEICAO</th>\n",
       "      <th>ST_DECLARAR_BENS</th>\n",
       "      <th>NR_PROTOCOLO_CANDIDATURA</th>\n",
       "      <th>NR_PROCESSO</th>\n",
       "    </tr>\n",
       "  </thead>\n",
       "  <tbody>\n",
       "    <tr>\n",
       "      <td>0</td>\n",
       "      <td>2018-09-20</td>\n",
       "      <td>09:50:32</td>\n",
       "      <td>2014</td>\n",
       "      <td>2</td>\n",
       "      <td>ELEIÇÃO ORDINÁRIA</td>\n",
       "      <td>1</td>\n",
       "      <td>143</td>\n",
       "      <td>Eleições Gerais 2014</td>\n",
       "      <td>05/10/2014</td>\n",
       "      <td>FEDERAL</td>\n",
       "      <td>...</td>\n",
       "      <td>BRANCA</td>\n",
       "      <td>276</td>\n",
       "      <td>SENADOR</td>\n",
       "      <td>36000000</td>\n",
       "      <td>4</td>\n",
       "      <td>NÃO ELEITO</td>\n",
       "      <td>N</td>\n",
       "      <td>S</td>\n",
       "      <td>292452014</td>\n",
       "      <td>9117120146160000</td>\n",
       "    </tr>\n",
       "    <tr>\n",
       "      <td>1</td>\n",
       "      <td>2018-09-20</td>\n",
       "      <td>09:50:32</td>\n",
       "      <td>2014</td>\n",
       "      <td>2</td>\n",
       "      <td>ELEIÇÃO ORDINÁRIA</td>\n",
       "      <td>1</td>\n",
       "      <td>143</td>\n",
       "      <td>Eleições Gerais 2014</td>\n",
       "      <td>05/10/2014</td>\n",
       "      <td>FEDERAL</td>\n",
       "      <td>...</td>\n",
       "      <td>PARDA</td>\n",
       "      <td>999</td>\n",
       "      <td>OUTROS</td>\n",
       "      <td>20000000</td>\n",
       "      <td>4</td>\n",
       "      <td>NÃO ELEITO</td>\n",
       "      <td>N</td>\n",
       "      <td>N</td>\n",
       "      <td>101272014</td>\n",
       "      <td>9721920146020000</td>\n",
       "    </tr>\n",
       "    <tr>\n",
       "      <td>2</td>\n",
       "      <td>2018-09-20</td>\n",
       "      <td>09:50:32</td>\n",
       "      <td>2014</td>\n",
       "      <td>2</td>\n",
       "      <td>ELEIÇÃO ORDINÁRIA</td>\n",
       "      <td>1</td>\n",
       "      <td>143</td>\n",
       "      <td>Eleições Gerais 2014</td>\n",
       "      <td>05/10/2014</td>\n",
       "      <td>FEDERAL</td>\n",
       "      <td>...</td>\n",
       "      <td>BRANCA</td>\n",
       "      <td>999</td>\n",
       "      <td>OUTROS</td>\n",
       "      <td>2000000</td>\n",
       "      <td>5</td>\n",
       "      <td>SUPLENTE</td>\n",
       "      <td>N</td>\n",
       "      <td>N</td>\n",
       "      <td>763742014</td>\n",
       "      <td>12808120146190000</td>\n",
       "    </tr>\n",
       "    <tr>\n",
       "      <td>3</td>\n",
       "      <td>2018-09-20</td>\n",
       "      <td>09:50:32</td>\n",
       "      <td>2014</td>\n",
       "      <td>2</td>\n",
       "      <td>ELEIÇÃO ORDINÁRIA</td>\n",
       "      <td>1</td>\n",
       "      <td>143</td>\n",
       "      <td>Eleições Gerais 2014</td>\n",
       "      <td>05/10/2014</td>\n",
       "      <td>FEDERAL</td>\n",
       "      <td>...</td>\n",
       "      <td>BRANCA</td>\n",
       "      <td>131</td>\n",
       "      <td>ADVOGADO</td>\n",
       "      <td>5000000</td>\n",
       "      <td>5</td>\n",
       "      <td>SUPLENTE</td>\n",
       "      <td>N</td>\n",
       "      <td>S</td>\n",
       "      <td>775172014</td>\n",
       "      <td>24871820146190000</td>\n",
       "    </tr>\n",
       "    <tr>\n",
       "      <td>4</td>\n",
       "      <td>2018-09-20</td>\n",
       "      <td>09:50:32</td>\n",
       "      <td>2014</td>\n",
       "      <td>2</td>\n",
       "      <td>ELEIÇÃO ORDINÁRIA</td>\n",
       "      <td>1</td>\n",
       "      <td>143</td>\n",
       "      <td>Eleições Gerais 2014</td>\n",
       "      <td>05/10/2014</td>\n",
       "      <td>FEDERAL</td>\n",
       "      <td>...</td>\n",
       "      <td>BRANCA</td>\n",
       "      <td>266</td>\n",
       "      <td>PROFESSOR DE ENSINO MÉDIO</td>\n",
       "      <td>1000000</td>\n",
       "      <td>5</td>\n",
       "      <td>SUPLENTE</td>\n",
       "      <td>N</td>\n",
       "      <td>N</td>\n",
       "      <td>762962014</td>\n",
       "      <td>30501220146190000</td>\n",
       "    </tr>\n",
       "  </tbody>\n",
       "</table>\n",
       "<p>5 rows × 58 columns</p>\n",
       "</div>"
      ],
      "text/plain": [
       "  DT_GERACAO HH_GERACAO  ANO_ELEICAO  CD_TIPO_ELEICAO    NM_TIPO_ELEICAO  \\\n",
       "0 2018-09-20   09:50:32         2014                2  ELEIÇÃO ORDINÁRIA   \n",
       "1 2018-09-20   09:50:32         2014                2  ELEIÇÃO ORDINÁRIA   \n",
       "2 2018-09-20   09:50:32         2014                2  ELEIÇÃO ORDINÁRIA   \n",
       "3 2018-09-20   09:50:32         2014                2  ELEIÇÃO ORDINÁRIA   \n",
       "4 2018-09-20   09:50:32         2014                2  ELEIÇÃO ORDINÁRIA   \n",
       "\n",
       "   NR_TURNO  CD_ELEICAO            DS_ELEICAO  DT_ELEICAO TP_ABRANGENCIA  ...  \\\n",
       "0         1         143  Eleições Gerais 2014  05/10/2014        FEDERAL  ...   \n",
       "1         1         143  Eleições Gerais 2014  05/10/2014        FEDERAL  ...   \n",
       "2         1         143  Eleições Gerais 2014  05/10/2014        FEDERAL  ...   \n",
       "3         1         143  Eleições Gerais 2014  05/10/2014        FEDERAL  ...   \n",
       "4         1         143  Eleições Gerais 2014  05/10/2014        FEDERAL  ...   \n",
       "\n",
       "  DS_COR_RACA CD_OCUPACAO                DS_OCUPACAO  NR_DESPESA_MAX_CAMPANHA  \\\n",
       "0      BRANCA         276                    SENADOR                 36000000   \n",
       "1       PARDA         999                     OUTROS                 20000000   \n",
       "2      BRANCA         999                     OUTROS                  2000000   \n",
       "3      BRANCA         131                   ADVOGADO                  5000000   \n",
       "4      BRANCA         266  PROFESSOR DE ENSINO MÉDIO                  1000000   \n",
       "\n",
       "  CD_SIT_TOT_TURNO  DS_SIT_TOT_TURNO  ST_REELEICAO ST_DECLARAR_BENS  \\\n",
       "0                4        NÃO ELEITO             N                S   \n",
       "1                4        NÃO ELEITO             N                N   \n",
       "2                5          SUPLENTE             N                N   \n",
       "3                5          SUPLENTE             N                S   \n",
       "4                5          SUPLENTE             N                N   \n",
       "\n",
       "  NR_PROTOCOLO_CANDIDATURA        NR_PROCESSO  \n",
       "0                292452014   9117120146160000  \n",
       "1                101272014   9721920146020000  \n",
       "2                763742014  12808120146190000  \n",
       "3                775172014  24871820146190000  \n",
       "4                762962014  30501220146190000  \n",
       "\n",
       "[5 rows x 58 columns]"
      ]
     },
     "execution_count": 18,
     "metadata": {},
     "output_type": "execute_result"
    }
   ],
   "source": [
    "candidatos_2014.head()"
   ]
  },
  {
   "cell_type": "code",
   "execution_count": 642,
   "metadata": {},
   "outputs": [
    {
     "data": {
      "text/html": [
       "<div>\n",
       "<style scoped>\n",
       "    .dataframe tbody tr th:only-of-type {\n",
       "        vertical-align: middle;\n",
       "    }\n",
       "\n",
       "    .dataframe tbody tr th {\n",
       "        vertical-align: top;\n",
       "    }\n",
       "\n",
       "    .dataframe thead th {\n",
       "        text-align: right;\n",
       "    }\n",
       "</style>\n",
       "<table border=\"1\" class=\"dataframe\">\n",
       "  <thead>\n",
       "    <tr style=\"text-align: right;\">\n",
       "      <th></th>\n",
       "      <th>ANO_ELEICAO</th>\n",
       "      <th>CD_TIPO_ELEICAO</th>\n",
       "      <th>NR_TURNO</th>\n",
       "      <th>CD_ELEICAO</th>\n",
       "      <th>CD_CARGO</th>\n",
       "      <th>SQ_CANDIDATO</th>\n",
       "      <th>NR_CANDIDATO</th>\n",
       "      <th>NR_CPF_CANDIDATO</th>\n",
       "      <th>CD_SITUACAO_CANDIDATURA</th>\n",
       "      <th>CD_DETALHE_SITUACAO_CAND</th>\n",
       "      <th>...</th>\n",
       "      <th>NR_IDADE_DATA_POSSE</th>\n",
       "      <th>NR_TITULO_ELEITORAL_CANDIDATO</th>\n",
       "      <th>CD_GENERO</th>\n",
       "      <th>CD_GRAU_INSTRUCAO</th>\n",
       "      <th>CD_ESTADO_CIVIL</th>\n",
       "      <th>CD_COR_RACA</th>\n",
       "      <th>CD_OCUPACAO</th>\n",
       "      <th>NR_DESPESA_MAX_CAMPANHA</th>\n",
       "      <th>CD_SIT_TOT_TURNO</th>\n",
       "      <th>NR_PROTOCOLO_CANDIDATURA</th>\n",
       "    </tr>\n",
       "  </thead>\n",
       "  <tbody>\n",
       "    <tr>\n",
       "      <td>count</td>\n",
       "      <td>26264.000</td>\n",
       "      <td>26264.000</td>\n",
       "      <td>26264.000</td>\n",
       "      <td>26264.000</td>\n",
       "      <td>26264.000</td>\n",
       "      <td>26264.000</td>\n",
       "      <td>26264.000</td>\n",
       "      <td>26264.000</td>\n",
       "      <td>26264.000</td>\n",
       "      <td>26264.000</td>\n",
       "      <td>...</td>\n",
       "      <td>26264.000</td>\n",
       "      <td>26264.000</td>\n",
       "      <td>26264.000</td>\n",
       "      <td>26264.000</td>\n",
       "      <td>26264.000</td>\n",
       "      <td>26264.000</td>\n",
       "      <td>26264.000</td>\n",
       "      <td>26264.000</td>\n",
       "      <td>26264.000</td>\n",
       "      <td>26264.000</td>\n",
       "    </tr>\n",
       "    <tr>\n",
       "      <td>mean</td>\n",
       "      <td>2014.000</td>\n",
       "      <td>1.998</td>\n",
       "      <td>1.003</td>\n",
       "      <td>143.229</td>\n",
       "      <td>6.727</td>\n",
       "      <td>150359428201.095</td>\n",
       "      <td>24606.318</td>\n",
       "      <td>36105450006.144</td>\n",
       "      <td>10.566</td>\n",
       "      <td>3.504</td>\n",
       "      <td>...</td>\n",
       "      <td>47.171</td>\n",
       "      <td>52790415579.707</td>\n",
       "      <td>2.620</td>\n",
       "      <td>6.689</td>\n",
       "      <td>3.119</td>\n",
       "      <td>1.819</td>\n",
       "      <td>419.938</td>\n",
       "      <td>2492303.064</td>\n",
       "      <td>3.870</td>\n",
       "      <td>447028532.026</td>\n",
       "    </tr>\n",
       "    <tr>\n",
       "      <td>std</td>\n",
       "      <td>0.000</td>\n",
       "      <td>0.040</td>\n",
       "      <td>0.051</td>\n",
       "      <td>5.699</td>\n",
       "      <td>0.787</td>\n",
       "      <td>74201689518.568</td>\n",
       "      <td>21944.618</td>\n",
       "      <td>28891396921.780</td>\n",
       "      <td>3.294</td>\n",
       "      <td>3.751</td>\n",
       "      <td>...</td>\n",
       "      <td>11.430</td>\n",
       "      <td>66955454973.419</td>\n",
       "      <td>0.925</td>\n",
       "      <td>1.492</td>\n",
       "      <td>2.300</td>\n",
       "      <td>0.956</td>\n",
       "      <td>320.619</td>\n",
       "      <td>5239804.836</td>\n",
       "      <td>1.999</td>\n",
       "      <td>384477884.722</td>\n",
       "    </tr>\n",
       "    <tr>\n",
       "      <td>min</td>\n",
       "      <td>2014.000</td>\n",
       "      <td>1.000</td>\n",
       "      <td>1.000</td>\n",
       "      <td>143.000</td>\n",
       "      <td>1.000</td>\n",
       "      <td>10000000001.000</td>\n",
       "      <td>10.000</td>\n",
       "      <td>1453190.000</td>\n",
       "      <td>3.000</td>\n",
       "      <td>2.000</td>\n",
       "      <td>...</td>\n",
       "      <td>18.000</td>\n",
       "      <td>507.000</td>\n",
       "      <td>2.000</td>\n",
       "      <td>2.000</td>\n",
       "      <td>1.000</td>\n",
       "      <td>1.000</td>\n",
       "      <td>101.000</td>\n",
       "      <td>-1.000</td>\n",
       "      <td>-1.000</td>\n",
       "      <td>-1.000</td>\n",
       "    </tr>\n",
       "    <tr>\n",
       "      <td>25%</td>\n",
       "      <td>2014.000</td>\n",
       "      <td>2.000</td>\n",
       "      <td>1.000</td>\n",
       "      <td>143.000</td>\n",
       "      <td>6.000</td>\n",
       "      <td>90000000362.750</td>\n",
       "      <td>4555.000</td>\n",
       "      <td>9202813790.750</td>\n",
       "      <td>12.000</td>\n",
       "      <td>2.000</td>\n",
       "      <td>...</td>\n",
       "      <td>39.000</td>\n",
       "      <td>9123157062.750</td>\n",
       "      <td>2.000</td>\n",
       "      <td>6.000</td>\n",
       "      <td>1.000</td>\n",
       "      <td>1.000</td>\n",
       "      <td>171.000</td>\n",
       "      <td>700000.000</td>\n",
       "      <td>4.000</td>\n",
       "      <td>194739514.000</td>\n",
       "    </tr>\n",
       "    <tr>\n",
       "      <td>50%</td>\n",
       "      <td>2014.000</td>\n",
       "      <td>2.000</td>\n",
       "      <td>1.000</td>\n",
       "      <td>143.000</td>\n",
       "      <td>7.000</td>\n",
       "      <td>160000000108.500</td>\n",
       "      <td>17800.000</td>\n",
       "      <td>30789791522.000</td>\n",
       "      <td>12.000</td>\n",
       "      <td>2.000</td>\n",
       "      <td>...</td>\n",
       "      <td>47.000</td>\n",
       "      <td>28014080398.000</td>\n",
       "      <td>2.000</td>\n",
       "      <td>7.000</td>\n",
       "      <td>3.000</td>\n",
       "      <td>1.000</td>\n",
       "      <td>277.000</td>\n",
       "      <td>2000000.000</td>\n",
       "      <td>5.000</td>\n",
       "      <td>305527014.000</td>\n",
       "    </tr>\n",
       "    <tr>\n",
       "      <td>75%</td>\n",
       "      <td>2014.000</td>\n",
       "      <td>2.000</td>\n",
       "      <td>1.000</td>\n",
       "      <td>143.000</td>\n",
       "      <td>7.000</td>\n",
       "      <td>210000000713.250</td>\n",
       "      <td>40999.000</td>\n",
       "      <td>59010387957.750</td>\n",
       "      <td>12.000</td>\n",
       "      <td>2.000</td>\n",
       "      <td>...</td>\n",
       "      <td>55.000</td>\n",
       "      <td>71325812828.250</td>\n",
       "      <td>4.000</td>\n",
       "      <td>8.000</td>\n",
       "      <td>3.000</td>\n",
       "      <td>3.000</td>\n",
       "      <td>581.000</td>\n",
       "      <td>3000000.000</td>\n",
       "      <td>5.000</td>\n",
       "      <td>656414514.000</td>\n",
       "    </tr>\n",
       "    <tr>\n",
       "      <td>max</td>\n",
       "      <td>2014.000</td>\n",
       "      <td>2.000</td>\n",
       "      <td>2.000</td>\n",
       "      <td>305.000</td>\n",
       "      <td>10.000</td>\n",
       "      <td>280000000123.000</td>\n",
       "      <td>90999.000</td>\n",
       "      <td>99986256020.000</td>\n",
       "      <td>12.000</td>\n",
       "      <td>17.000</td>\n",
       "      <td>...</td>\n",
       "      <td>92.000</td>\n",
       "      <td>416980390124.000</td>\n",
       "      <td>4.000</td>\n",
       "      <td>8.000</td>\n",
       "      <td>9.000</td>\n",
       "      <td>5.000</td>\n",
       "      <td>999.000</td>\n",
       "      <td>383000000.000</td>\n",
       "      <td>6.000</td>\n",
       "      <td>2209512014.000</td>\n",
       "    </tr>\n",
       "  </tbody>\n",
       "</table>\n",
       "<p>8 rows × 24 columns</p>\n",
       "</div>"
      ],
      "text/plain": [
       "       ANO_ELEICAO  CD_TIPO_ELEICAO  NR_TURNO  CD_ELEICAO  CD_CARGO  \\\n",
       "count    26264.000        26264.000 26264.000   26264.000 26264.000   \n",
       "mean      2014.000            1.998     1.003     143.229     6.727   \n",
       "std          0.000            0.040     0.051       5.699     0.787   \n",
       "min       2014.000            1.000     1.000     143.000     1.000   \n",
       "25%       2014.000            2.000     1.000     143.000     6.000   \n",
       "50%       2014.000            2.000     1.000     143.000     7.000   \n",
       "75%       2014.000            2.000     1.000     143.000     7.000   \n",
       "max       2014.000            2.000     2.000     305.000    10.000   \n",
       "\n",
       "          SQ_CANDIDATO  NR_CANDIDATO  NR_CPF_CANDIDATO  \\\n",
       "count        26264.000     26264.000         26264.000   \n",
       "mean  150359428201.095     24606.318   36105450006.144   \n",
       "std    74201689518.568     21944.618   28891396921.780   \n",
       "min    10000000001.000        10.000       1453190.000   \n",
       "25%    90000000362.750      4555.000    9202813790.750   \n",
       "50%   160000000108.500     17800.000   30789791522.000   \n",
       "75%   210000000713.250     40999.000   59010387957.750   \n",
       "max   280000000123.000     90999.000   99986256020.000   \n",
       "\n",
       "       CD_SITUACAO_CANDIDATURA  CD_DETALHE_SITUACAO_CAND  ...  \\\n",
       "count                26264.000                 26264.000  ...   \n",
       "mean                    10.566                     3.504  ...   \n",
       "std                      3.294                     3.751  ...   \n",
       "min                      3.000                     2.000  ...   \n",
       "25%                     12.000                     2.000  ...   \n",
       "50%                     12.000                     2.000  ...   \n",
       "75%                     12.000                     2.000  ...   \n",
       "max                     12.000                    17.000  ...   \n",
       "\n",
       "       NR_IDADE_DATA_POSSE  NR_TITULO_ELEITORAL_CANDIDATO  CD_GENERO  \\\n",
       "count            26264.000                      26264.000  26264.000   \n",
       "mean                47.171                52790415579.707      2.620   \n",
       "std                 11.430                66955454973.419      0.925   \n",
       "min                 18.000                        507.000      2.000   \n",
       "25%                 39.000                 9123157062.750      2.000   \n",
       "50%                 47.000                28014080398.000      2.000   \n",
       "75%                 55.000                71325812828.250      4.000   \n",
       "max                 92.000               416980390124.000      4.000   \n",
       "\n",
       "       CD_GRAU_INSTRUCAO  CD_ESTADO_CIVIL  CD_COR_RACA  CD_OCUPACAO  \\\n",
       "count          26264.000        26264.000    26264.000    26264.000   \n",
       "mean               6.689            3.119        1.819      419.938   \n",
       "std                1.492            2.300        0.956      320.619   \n",
       "min                2.000            1.000        1.000      101.000   \n",
       "25%                6.000            1.000        1.000      171.000   \n",
       "50%                7.000            3.000        1.000      277.000   \n",
       "75%                8.000            3.000        3.000      581.000   \n",
       "max                8.000            9.000        5.000      999.000   \n",
       "\n",
       "       NR_DESPESA_MAX_CAMPANHA  CD_SIT_TOT_TURNO  NR_PROTOCOLO_CANDIDATURA  \n",
       "count                26264.000         26264.000                 26264.000  \n",
       "mean               2492303.064             3.870             447028532.026  \n",
       "std                5239804.836             1.999             384477884.722  \n",
       "min                     -1.000            -1.000                    -1.000  \n",
       "25%                 700000.000             4.000             194739514.000  \n",
       "50%                2000000.000             5.000             305527014.000  \n",
       "75%                3000000.000             5.000             656414514.000  \n",
       "max              383000000.000             6.000            2209512014.000  \n",
       "\n",
       "[8 rows x 24 columns]"
      ]
     },
     "execution_count": 642,
     "metadata": {},
     "output_type": "execute_result"
    }
   ],
   "source": [
    "candidatos_2014.describe()"
   ]
  },
  {
   "cell_type": "markdown",
   "metadata": {},
   "source": [
    "# Eleições 2014"
   ]
  },
  {
   "cell_type": "markdown",
   "metadata": {},
   "source": [
    "## Quantidade de candidatos?"
   ]
  },
  {
   "cell_type": "code",
   "execution_count": 25,
   "metadata": {},
   "outputs": [
    {
     "data": {
      "text/plain": [
       "26264"
      ]
     },
     "execution_count": 25,
     "metadata": {},
     "output_type": "execute_result"
    }
   ],
   "source": [
    "candidatos_2014['NM_CANDIDATO'].count()"
   ]
  },
  {
   "cell_type": "markdown",
   "metadata": {},
   "source": [
    "## Quantidade de candidatos por gênero?"
   ]
  },
  {
   "cell_type": "code",
   "execution_count": 76,
   "metadata": {},
   "outputs": [
    {
     "data": {
      "text/plain": [
       "DS_GENERO\n",
       "FEMININO      8139\n",
       "MASCULINO    18125\n",
       "Name: NM_CANDIDATO, dtype: int64"
      ]
     },
     "execution_count": 76,
     "metadata": {},
     "output_type": "execute_result"
    }
   ],
   "source": [
    "candidatos_2014.groupby(['DS_GENERO'])['NM_CANDIDATO'].count()"
   ]
  },
  {
   "cell_type": "markdown",
   "metadata": {},
   "source": [
    "## Qual o grau de instrução dos candidatos por gênero?"
   ]
  },
  {
   "cell_type": "code",
   "execution_count": 60,
   "metadata": {},
   "outputs": [
    {
     "data": {
      "text/html": [
       "<div>\n",
       "<style scoped>\n",
       "    .dataframe tbody tr th:only-of-type {\n",
       "        vertical-align: middle;\n",
       "    }\n",
       "\n",
       "    .dataframe tbody tr th {\n",
       "        vertical-align: top;\n",
       "    }\n",
       "\n",
       "    .dataframe thead th {\n",
       "        text-align: right;\n",
       "    }\n",
       "</style>\n",
       "<table border=\"1\" class=\"dataframe\">\n",
       "  <thead>\n",
       "    <tr style=\"text-align: right;\">\n",
       "      <th></th>\n",
       "      <th>DS_GENERO</th>\n",
       "      <th>DS_GRAU_INSTRUCAO</th>\n",
       "      <th>DS_GENERO_GRAU_INSTRUCAO</th>\n",
       "    </tr>\n",
       "  </thead>\n",
       "  <tbody>\n",
       "    <tr>\n",
       "      <td>0</td>\n",
       "      <td>FEMININO</td>\n",
       "      <td>ENSINO FUNDAMENTAL COMPLETO</td>\n",
       "      <td>557</td>\n",
       "    </tr>\n",
       "    <tr>\n",
       "      <td>1</td>\n",
       "      <td>FEMININO</td>\n",
       "      <td>ENSINO FUNDAMENTAL INCOMPLETO</td>\n",
       "      <td>271</td>\n",
       "    </tr>\n",
       "    <tr>\n",
       "      <td>2</td>\n",
       "      <td>FEMININO</td>\n",
       "      <td>ENSINO MÉDIO COMPLETO</td>\n",
       "      <td>2773</td>\n",
       "    </tr>\n",
       "    <tr>\n",
       "      <td>3</td>\n",
       "      <td>FEMININO</td>\n",
       "      <td>ENSINO MÉDIO INCOMPLETO</td>\n",
       "      <td>296</td>\n",
       "    </tr>\n",
       "    <tr>\n",
       "      <td>4</td>\n",
       "      <td>FEMININO</td>\n",
       "      <td>LÊ E ESCREVE</td>\n",
       "      <td>112</td>\n",
       "    </tr>\n",
       "    <tr>\n",
       "      <td>5</td>\n",
       "      <td>FEMININO</td>\n",
       "      <td>SUPERIOR COMPLETO</td>\n",
       "      <td>3286</td>\n",
       "    </tr>\n",
       "    <tr>\n",
       "      <td>6</td>\n",
       "      <td>FEMININO</td>\n",
       "      <td>SUPERIOR INCOMPLETO</td>\n",
       "      <td>844</td>\n",
       "    </tr>\n",
       "    <tr>\n",
       "      <td>7</td>\n",
       "      <td>MASCULINO</td>\n",
       "      <td>ENSINO FUNDAMENTAL COMPLETO</td>\n",
       "      <td>1346</td>\n",
       "    </tr>\n",
       "    <tr>\n",
       "      <td>8</td>\n",
       "      <td>MASCULINO</td>\n",
       "      <td>ENSINO FUNDAMENTAL INCOMPLETO</td>\n",
       "      <td>615</td>\n",
       "    </tr>\n",
       "    <tr>\n",
       "      <td>9</td>\n",
       "      <td>MASCULINO</td>\n",
       "      <td>ENSINO MÉDIO COMPLETO</td>\n",
       "      <td>5098</td>\n",
       "    </tr>\n",
       "    <tr>\n",
       "      <td>10</td>\n",
       "      <td>MASCULINO</td>\n",
       "      <td>ENSINO MÉDIO INCOMPLETO</td>\n",
       "      <td>542</td>\n",
       "    </tr>\n",
       "    <tr>\n",
       "      <td>11</td>\n",
       "      <td>MASCULINO</td>\n",
       "      <td>LÊ E ESCREVE</td>\n",
       "      <td>150</td>\n",
       "    </tr>\n",
       "    <tr>\n",
       "      <td>12</td>\n",
       "      <td>MASCULINO</td>\n",
       "      <td>SUPERIOR COMPLETO</td>\n",
       "      <td>8645</td>\n",
       "    </tr>\n",
       "    <tr>\n",
       "      <td>13</td>\n",
       "      <td>MASCULINO</td>\n",
       "      <td>SUPERIOR INCOMPLETO</td>\n",
       "      <td>1729</td>\n",
       "    </tr>\n",
       "  </tbody>\n",
       "</table>\n",
       "</div>"
      ],
      "text/plain": [
       "    DS_GENERO              DS_GRAU_INSTRUCAO  DS_GENERO_GRAU_INSTRUCAO\n",
       "0    FEMININO    ENSINO FUNDAMENTAL COMPLETO                       557\n",
       "1    FEMININO  ENSINO FUNDAMENTAL INCOMPLETO                       271\n",
       "2    FEMININO          ENSINO MÉDIO COMPLETO                      2773\n",
       "3    FEMININO        ENSINO MÉDIO INCOMPLETO                       296\n",
       "4    FEMININO                   LÊ E ESCREVE                       112\n",
       "5    FEMININO              SUPERIOR COMPLETO                      3286\n",
       "6    FEMININO            SUPERIOR INCOMPLETO                       844\n",
       "7   MASCULINO    ENSINO FUNDAMENTAL COMPLETO                      1346\n",
       "8   MASCULINO  ENSINO FUNDAMENTAL INCOMPLETO                       615\n",
       "9   MASCULINO          ENSINO MÉDIO COMPLETO                      5098\n",
       "10  MASCULINO        ENSINO MÉDIO INCOMPLETO                       542\n",
       "11  MASCULINO                   LÊ E ESCREVE                       150\n",
       "12  MASCULINO              SUPERIOR COMPLETO                      8645\n",
       "13  MASCULINO            SUPERIOR INCOMPLETO                      1729"
      ]
     },
     "execution_count": 60,
     "metadata": {},
     "output_type": "execute_result"
    }
   ],
   "source": [
    "temp = candidatos_2014.groupby(['DS_GENERO', 'DS_GRAU_INSTRUCAO'])['NM_CANDIDATO'].count().reset_index(name='DS_GENERO_GRAU_INSTRUCAO')\n",
    "temp"
   ]
  },
  {
   "cell_type": "code",
   "execution_count": 81,
   "metadata": {},
   "outputs": [
    {
     "data": {
      "text/html": [
       "<div>\n",
       "<style scoped>\n",
       "    .dataframe tbody tr th:only-of-type {\n",
       "        vertical-align: middle;\n",
       "    }\n",
       "\n",
       "    .dataframe tbody tr th {\n",
       "        vertical-align: top;\n",
       "    }\n",
       "\n",
       "    .dataframe thead th {\n",
       "        text-align: right;\n",
       "    }\n",
       "</style>\n",
       "<table border=\"1\" class=\"dataframe\">\n",
       "  <thead>\n",
       "    <tr style=\"text-align: right;\">\n",
       "      <th></th>\n",
       "      <th>DS_GENERO</th>\n",
       "      <th>DS_GRAU_INSTRUCAO</th>\n",
       "      <th>DS_GENERO_GRAU_INSTRUCAO</th>\n",
       "    </tr>\n",
       "  </thead>\n",
       "  <tbody>\n",
       "    <tr>\n",
       "      <td>5</td>\n",
       "      <td>FEMININO</td>\n",
       "      <td>SUPERIOR COMPLETO</td>\n",
       "      <td>3286</td>\n",
       "    </tr>\n",
       "    <tr>\n",
       "      <td>2</td>\n",
       "      <td>FEMININO</td>\n",
       "      <td>ENSINO MÉDIO COMPLETO</td>\n",
       "      <td>2773</td>\n",
       "    </tr>\n",
       "    <tr>\n",
       "      <td>6</td>\n",
       "      <td>FEMININO</td>\n",
       "      <td>SUPERIOR INCOMPLETO</td>\n",
       "      <td>844</td>\n",
       "    </tr>\n",
       "    <tr>\n",
       "      <td>0</td>\n",
       "      <td>FEMININO</td>\n",
       "      <td>ENSINO FUNDAMENTAL COMPLETO</td>\n",
       "      <td>557</td>\n",
       "    </tr>\n",
       "    <tr>\n",
       "      <td>3</td>\n",
       "      <td>FEMININO</td>\n",
       "      <td>ENSINO MÉDIO INCOMPLETO</td>\n",
       "      <td>296</td>\n",
       "    </tr>\n",
       "    <tr>\n",
       "      <td>1</td>\n",
       "      <td>FEMININO</td>\n",
       "      <td>ENSINO FUNDAMENTAL INCOMPLETO</td>\n",
       "      <td>271</td>\n",
       "    </tr>\n",
       "    <tr>\n",
       "      <td>4</td>\n",
       "      <td>FEMININO</td>\n",
       "      <td>LÊ E ESCREVE</td>\n",
       "      <td>112</td>\n",
       "    </tr>\n",
       "  </tbody>\n",
       "</table>\n",
       "</div>"
      ],
      "text/plain": [
       "  DS_GENERO              DS_GRAU_INSTRUCAO  DS_GENERO_GRAU_INSTRUCAO\n",
       "5  FEMININO              SUPERIOR COMPLETO                      3286\n",
       "2  FEMININO          ENSINO MÉDIO COMPLETO                      2773\n",
       "6  FEMININO            SUPERIOR INCOMPLETO                       844\n",
       "0  FEMININO    ENSINO FUNDAMENTAL COMPLETO                       557\n",
       "3  FEMININO        ENSINO MÉDIO INCOMPLETO                       296\n",
       "1  FEMININO  ENSINO FUNDAMENTAL INCOMPLETO                       271\n",
       "4  FEMININO                   LÊ E ESCREVE                       112"
      ]
     },
     "execution_count": 81,
     "metadata": {},
     "output_type": "execute_result"
    }
   ],
   "source": [
    "temp[temp['DS_GENERO'] == 'FEMININO'].sort_values(ascending=False, by='DS_GENERO_GRAU_INSTRUCAO' )"
   ]
  },
  {
   "cell_type": "code",
   "execution_count": 82,
   "metadata": {},
   "outputs": [
    {
     "data": {
      "text/html": [
       "<div>\n",
       "<style scoped>\n",
       "    .dataframe tbody tr th:only-of-type {\n",
       "        vertical-align: middle;\n",
       "    }\n",
       "\n",
       "    .dataframe tbody tr th {\n",
       "        vertical-align: top;\n",
       "    }\n",
       "\n",
       "    .dataframe thead th {\n",
       "        text-align: right;\n",
       "    }\n",
       "</style>\n",
       "<table border=\"1\" class=\"dataframe\">\n",
       "  <thead>\n",
       "    <tr style=\"text-align: right;\">\n",
       "      <th></th>\n",
       "      <th>DS_GENERO</th>\n",
       "      <th>DS_GRAU_INSTRUCAO</th>\n",
       "      <th>DS_GENERO_GRAU_INSTRUCAO</th>\n",
       "    </tr>\n",
       "  </thead>\n",
       "  <tbody>\n",
       "    <tr>\n",
       "      <td>12</td>\n",
       "      <td>MASCULINO</td>\n",
       "      <td>SUPERIOR COMPLETO</td>\n",
       "      <td>8645</td>\n",
       "    </tr>\n",
       "    <tr>\n",
       "      <td>9</td>\n",
       "      <td>MASCULINO</td>\n",
       "      <td>ENSINO MÉDIO COMPLETO</td>\n",
       "      <td>5098</td>\n",
       "    </tr>\n",
       "    <tr>\n",
       "      <td>13</td>\n",
       "      <td>MASCULINO</td>\n",
       "      <td>SUPERIOR INCOMPLETO</td>\n",
       "      <td>1729</td>\n",
       "    </tr>\n",
       "    <tr>\n",
       "      <td>7</td>\n",
       "      <td>MASCULINO</td>\n",
       "      <td>ENSINO FUNDAMENTAL COMPLETO</td>\n",
       "      <td>1346</td>\n",
       "    </tr>\n",
       "    <tr>\n",
       "      <td>8</td>\n",
       "      <td>MASCULINO</td>\n",
       "      <td>ENSINO FUNDAMENTAL INCOMPLETO</td>\n",
       "      <td>615</td>\n",
       "    </tr>\n",
       "    <tr>\n",
       "      <td>10</td>\n",
       "      <td>MASCULINO</td>\n",
       "      <td>ENSINO MÉDIO INCOMPLETO</td>\n",
       "      <td>542</td>\n",
       "    </tr>\n",
       "    <tr>\n",
       "      <td>11</td>\n",
       "      <td>MASCULINO</td>\n",
       "      <td>LÊ E ESCREVE</td>\n",
       "      <td>150</td>\n",
       "    </tr>\n",
       "  </tbody>\n",
       "</table>\n",
       "</div>"
      ],
      "text/plain": [
       "    DS_GENERO              DS_GRAU_INSTRUCAO  DS_GENERO_GRAU_INSTRUCAO\n",
       "12  MASCULINO              SUPERIOR COMPLETO                      8645\n",
       "9   MASCULINO          ENSINO MÉDIO COMPLETO                      5098\n",
       "13  MASCULINO            SUPERIOR INCOMPLETO                      1729\n",
       "7   MASCULINO    ENSINO FUNDAMENTAL COMPLETO                      1346\n",
       "8   MASCULINO  ENSINO FUNDAMENTAL INCOMPLETO                       615\n",
       "10  MASCULINO        ENSINO MÉDIO INCOMPLETO                       542\n",
       "11  MASCULINO                   LÊ E ESCREVE                       150"
      ]
     },
     "execution_count": 82,
     "metadata": {},
     "output_type": "execute_result"
    }
   ],
   "source": [
    "temp[temp['DS_GENERO'] == 'MASCULINO'].sort_values(ascending=False, by='DS_GENERO_GRAU_INSTRUCAO' )"
   ]
  },
  {
   "cell_type": "markdown",
   "metadata": {},
   "source": [
    "# DESAFIO:\n",
    "# Prever a quantidade de eleitos/outros. (DS_SIT_TOT_TURNO)"
   ]
  },
  {
   "cell_type": "code",
   "execution_count": 117,
   "metadata": {
    "scrolled": true
   },
   "outputs": [
    {
     "data": {
      "text/html": [
       "<div>\n",
       "<style scoped>\n",
       "    .dataframe tbody tr th:only-of-type {\n",
       "        vertical-align: middle;\n",
       "    }\n",
       "\n",
       "    .dataframe tbody tr th {\n",
       "        vertical-align: top;\n",
       "    }\n",
       "\n",
       "    .dataframe thead th {\n",
       "        text-align: right;\n",
       "    }\n",
       "</style>\n",
       "<table border=\"1\" class=\"dataframe\">\n",
       "  <thead>\n",
       "    <tr style=\"text-align: right;\">\n",
       "      <th></th>\n",
       "      <th>NR_DESPESA_MAX_CAMPANHA</th>\n",
       "      <th>CD_GENERO</th>\n",
       "      <th>CD_GRAU_INSTRUCAO</th>\n",
       "      <th>NR_IDADE_DATA_POSSE</th>\n",
       "      <th>CD_ESTADO_CIVIL</th>\n",
       "      <th>CD_COR_RACA</th>\n",
       "    </tr>\n",
       "  </thead>\n",
       "  <tbody>\n",
       "    <tr>\n",
       "      <td>count</td>\n",
       "      <td>2.626400e+04</td>\n",
       "      <td>26264.000000</td>\n",
       "      <td>26264.000000</td>\n",
       "      <td>26264.000000</td>\n",
       "      <td>26264.000000</td>\n",
       "      <td>26264.000000</td>\n",
       "    </tr>\n",
       "    <tr>\n",
       "      <td>mean</td>\n",
       "      <td>2.492303e+06</td>\n",
       "      <td>2.619784</td>\n",
       "      <td>6.688585</td>\n",
       "      <td>47.171147</td>\n",
       "      <td>3.118794</td>\n",
       "      <td>1.819068</td>\n",
       "    </tr>\n",
       "    <tr>\n",
       "      <td>std</td>\n",
       "      <td>5.239805e+06</td>\n",
       "      <td>0.924915</td>\n",
       "      <td>1.491959</td>\n",
       "      <td>11.429958</td>\n",
       "      <td>2.300481</td>\n",
       "      <td>0.956349</td>\n",
       "    </tr>\n",
       "    <tr>\n",
       "      <td>min</td>\n",
       "      <td>-1.000000e+00</td>\n",
       "      <td>2.000000</td>\n",
       "      <td>2.000000</td>\n",
       "      <td>18.000000</td>\n",
       "      <td>1.000000</td>\n",
       "      <td>1.000000</td>\n",
       "    </tr>\n",
       "    <tr>\n",
       "      <td>25%</td>\n",
       "      <td>7.000000e+05</td>\n",
       "      <td>2.000000</td>\n",
       "      <td>6.000000</td>\n",
       "      <td>39.000000</td>\n",
       "      <td>1.000000</td>\n",
       "      <td>1.000000</td>\n",
       "    </tr>\n",
       "    <tr>\n",
       "      <td>50%</td>\n",
       "      <td>2.000000e+06</td>\n",
       "      <td>2.000000</td>\n",
       "      <td>7.000000</td>\n",
       "      <td>47.000000</td>\n",
       "      <td>3.000000</td>\n",
       "      <td>1.000000</td>\n",
       "    </tr>\n",
       "    <tr>\n",
       "      <td>75%</td>\n",
       "      <td>3.000000e+06</td>\n",
       "      <td>4.000000</td>\n",
       "      <td>8.000000</td>\n",
       "      <td>55.000000</td>\n",
       "      <td>3.000000</td>\n",
       "      <td>3.000000</td>\n",
       "    </tr>\n",
       "    <tr>\n",
       "      <td>max</td>\n",
       "      <td>3.830000e+08</td>\n",
       "      <td>4.000000</td>\n",
       "      <td>8.000000</td>\n",
       "      <td>92.000000</td>\n",
       "      <td>9.000000</td>\n",
       "      <td>5.000000</td>\n",
       "    </tr>\n",
       "  </tbody>\n",
       "</table>\n",
       "</div>"
      ],
      "text/plain": [
       "       NR_DESPESA_MAX_CAMPANHA     CD_GENERO  CD_GRAU_INSTRUCAO  \\\n",
       "count             2.626400e+04  26264.000000       26264.000000   \n",
       "mean              2.492303e+06      2.619784           6.688585   \n",
       "std               5.239805e+06      0.924915           1.491959   \n",
       "min              -1.000000e+00      2.000000           2.000000   \n",
       "25%               7.000000e+05      2.000000           6.000000   \n",
       "50%               2.000000e+06      2.000000           7.000000   \n",
       "75%               3.000000e+06      4.000000           8.000000   \n",
       "max               3.830000e+08      4.000000           8.000000   \n",
       "\n",
       "       NR_IDADE_DATA_POSSE  CD_ESTADO_CIVIL   CD_COR_RACA  \n",
       "count         26264.000000     26264.000000  26264.000000  \n",
       "mean             47.171147         3.118794      1.819068  \n",
       "std              11.429958         2.300481      0.956349  \n",
       "min              18.000000         1.000000      1.000000  \n",
       "25%              39.000000         1.000000      1.000000  \n",
       "50%              47.000000         3.000000      1.000000  \n",
       "75%              55.000000         3.000000      3.000000  \n",
       "max              92.000000         9.000000      5.000000  "
      ]
     },
     "execution_count": 117,
     "metadata": {},
     "output_type": "execute_result"
    }
   ],
   "source": [
    "candidatos_2014[['NR_DESPESA_MAX_CAMPANHA', 'CD_GENERO', 'CD_GRAU_INSTRUCAO', 'NR_IDADE_DATA_POSSE', 'CD_ESTADO_CIVIL', 'CD_COR_RACA']].describe()"
   ]
  },
  {
   "cell_type": "markdown",
   "metadata": {},
   "source": [
    "## Variaveis do KNN (X e y)"
   ]
  },
  {
   "cell_type": "markdown",
   "metadata": {},
   "source": [
    "Escolha das variáveis:\n",
    "* ST_REELEICAO (Indica se o candidato esta tentando uma reeleição ou não)\n",
    "* NR_DESPESA_MAX_CAMPANHA ( Valor gasto na campanha)\n",
    "* DS_GENERO (Gênero: Feminino ou Masculino)\n",
    "* DS_GRAU_INSTRUCAO (Qual o grau de instrução do candidato)\n",
    "* NR_IDADE_DATA_POSSE (Idade do candidato)\n",
    "* DS_ESTADO_CIVIL (Diz o estado civil do candidato)\n",
    "* DS_COR_RACA (Diz qual a raça do candidato)\n",
    "\n",
    "Target:\n",
    "* DS_SIT_TOT_TURNO (Descrição da situação de totalização do candidato naquele turno)"
   ]
  },
  {
   "cell_type": "code",
   "execution_count": 122,
   "metadata": {},
   "outputs": [
    {
     "data": {
      "text/html": [
       "<div>\n",
       "<style scoped>\n",
       "    .dataframe tbody tr th:only-of-type {\n",
       "        vertical-align: middle;\n",
       "    }\n",
       "\n",
       "    .dataframe tbody tr th {\n",
       "        vertical-align: top;\n",
       "    }\n",
       "\n",
       "    .dataframe thead th {\n",
       "        text-align: right;\n",
       "    }\n",
       "</style>\n",
       "<table border=\"1\" class=\"dataframe\">\n",
       "  <thead>\n",
       "    <tr style=\"text-align: right;\">\n",
       "      <th></th>\n",
       "      <th>ST_REELEICAO</th>\n",
       "      <th>NR_DESPESA_MAX_CAMPANHA</th>\n",
       "      <th>DS_GENERO</th>\n",
       "      <th>DS_GRAU_INSTRUCAO</th>\n",
       "      <th>NR_IDADE_DATA_POSSE</th>\n",
       "      <th>DS_ESTADO_CIVIL</th>\n",
       "      <th>DS_COR_RACA</th>\n",
       "      <th>DS_SIT_TOT_TURNO</th>\n",
       "    </tr>\n",
       "  </thead>\n",
       "  <tbody>\n",
       "    <tr>\n",
       "      <td>0</td>\n",
       "      <td>N</td>\n",
       "      <td>36000000</td>\n",
       "      <td>FEMININO</td>\n",
       "      <td>SUPERIOR COMPLETO</td>\n",
       "      <td>49</td>\n",
       "      <td>DIVORCIADO(A)</td>\n",
       "      <td>BRANCA</td>\n",
       "      <td>NÃO ELEITO</td>\n",
       "    </tr>\n",
       "    <tr>\n",
       "      <td>1</td>\n",
       "      <td>N</td>\n",
       "      <td>20000000</td>\n",
       "      <td>MASCULINO</td>\n",
       "      <td>ENSINO FUNDAMENTAL COMPLETO</td>\n",
       "      <td>50</td>\n",
       "      <td>CASADO(A)</td>\n",
       "      <td>PARDA</td>\n",
       "      <td>NÃO ELEITO</td>\n",
       "    </tr>\n",
       "    <tr>\n",
       "      <td>2</td>\n",
       "      <td>N</td>\n",
       "      <td>2000000</td>\n",
       "      <td>MASCULINO</td>\n",
       "      <td>ENSINO FUNDAMENTAL INCOMPLETO</td>\n",
       "      <td>46</td>\n",
       "      <td>DIVORCIADO(A)</td>\n",
       "      <td>BRANCA</td>\n",
       "      <td>SUPLENTE</td>\n",
       "    </tr>\n",
       "    <tr>\n",
       "      <td>3</td>\n",
       "      <td>N</td>\n",
       "      <td>5000000</td>\n",
       "      <td>FEMININO</td>\n",
       "      <td>SUPERIOR COMPLETO</td>\n",
       "      <td>74</td>\n",
       "      <td>SOLTEIRO(A)</td>\n",
       "      <td>BRANCA</td>\n",
       "      <td>SUPLENTE</td>\n",
       "    </tr>\n",
       "    <tr>\n",
       "      <td>4</td>\n",
       "      <td>N</td>\n",
       "      <td>1000000</td>\n",
       "      <td>FEMININO</td>\n",
       "      <td>SUPERIOR COMPLETO</td>\n",
       "      <td>48</td>\n",
       "      <td>CASADO(A)</td>\n",
       "      <td>BRANCA</td>\n",
       "      <td>SUPLENTE</td>\n",
       "    </tr>\n",
       "    <tr>\n",
       "      <td>...</td>\n",
       "      <td>...</td>\n",
       "      <td>...</td>\n",
       "      <td>...</td>\n",
       "      <td>...</td>\n",
       "      <td>...</td>\n",
       "      <td>...</td>\n",
       "      <td>...</td>\n",
       "      <td>...</td>\n",
       "    </tr>\n",
       "    <tr>\n",
       "      <td>26259</td>\n",
       "      <td>N</td>\n",
       "      <td>3000000</td>\n",
       "      <td>MASCULINO</td>\n",
       "      <td>SUPERIOR COMPLETO</td>\n",
       "      <td>52</td>\n",
       "      <td>SOLTEIRO(A)</td>\n",
       "      <td>PARDA</td>\n",
       "      <td>SUPLENTE</td>\n",
       "    </tr>\n",
       "    <tr>\n",
       "      <td>26260</td>\n",
       "      <td>N</td>\n",
       "      <td>4500000</td>\n",
       "      <td>MASCULINO</td>\n",
       "      <td>ENSINO FUNDAMENTAL COMPLETO</td>\n",
       "      <td>59</td>\n",
       "      <td>CASADO(A)</td>\n",
       "      <td>BRANCA</td>\n",
       "      <td>SUPLENTE</td>\n",
       "    </tr>\n",
       "    <tr>\n",
       "      <td>26261</td>\n",
       "      <td>N</td>\n",
       "      <td>3000000</td>\n",
       "      <td>FEMININO</td>\n",
       "      <td>SUPERIOR INCOMPLETO</td>\n",
       "      <td>41</td>\n",
       "      <td>CASADO(A)</td>\n",
       "      <td>BRANCA</td>\n",
       "      <td>SUPLENTE</td>\n",
       "    </tr>\n",
       "    <tr>\n",
       "      <td>26262</td>\n",
       "      <td>N</td>\n",
       "      <td>1200000</td>\n",
       "      <td>FEMININO</td>\n",
       "      <td>SUPERIOR COMPLETO</td>\n",
       "      <td>27</td>\n",
       "      <td>SOLTEIRO(A)</td>\n",
       "      <td>BRANCA</td>\n",
       "      <td>SUPLENTE</td>\n",
       "    </tr>\n",
       "    <tr>\n",
       "      <td>26263</td>\n",
       "      <td>N</td>\n",
       "      <td>4000000</td>\n",
       "      <td>MASCULINO</td>\n",
       "      <td>ENSINO MÉDIO COMPLETO</td>\n",
       "      <td>40</td>\n",
       "      <td>DIVORCIADO(A)</td>\n",
       "      <td>BRANCA</td>\n",
       "      <td>SUPLENTE</td>\n",
       "    </tr>\n",
       "  </tbody>\n",
       "</table>\n",
       "<p>26264 rows × 8 columns</p>\n",
       "</div>"
      ],
      "text/plain": [
       "      ST_REELEICAO  NR_DESPESA_MAX_CAMPANHA  DS_GENERO  \\\n",
       "0                N                 36000000   FEMININO   \n",
       "1                N                 20000000  MASCULINO   \n",
       "2                N                  2000000  MASCULINO   \n",
       "3                N                  5000000   FEMININO   \n",
       "4                N                  1000000   FEMININO   \n",
       "...            ...                      ...        ...   \n",
       "26259            N                  3000000  MASCULINO   \n",
       "26260            N                  4500000  MASCULINO   \n",
       "26261            N                  3000000   FEMININO   \n",
       "26262            N                  1200000   FEMININO   \n",
       "26263            N                  4000000  MASCULINO   \n",
       "\n",
       "                   DS_GRAU_INSTRUCAO  NR_IDADE_DATA_POSSE DS_ESTADO_CIVIL  \\\n",
       "0                  SUPERIOR COMPLETO                   49   DIVORCIADO(A)   \n",
       "1        ENSINO FUNDAMENTAL COMPLETO                   50       CASADO(A)   \n",
       "2      ENSINO FUNDAMENTAL INCOMPLETO                   46   DIVORCIADO(A)   \n",
       "3                  SUPERIOR COMPLETO                   74     SOLTEIRO(A)   \n",
       "4                  SUPERIOR COMPLETO                   48       CASADO(A)   \n",
       "...                              ...                  ...             ...   \n",
       "26259              SUPERIOR COMPLETO                   52     SOLTEIRO(A)   \n",
       "26260    ENSINO FUNDAMENTAL COMPLETO                   59       CASADO(A)   \n",
       "26261            SUPERIOR INCOMPLETO                   41       CASADO(A)   \n",
       "26262              SUPERIOR COMPLETO                   27     SOLTEIRO(A)   \n",
       "26263          ENSINO MÉDIO COMPLETO                   40   DIVORCIADO(A)   \n",
       "\n",
       "      DS_COR_RACA DS_SIT_TOT_TURNO  \n",
       "0          BRANCA       NÃO ELEITO  \n",
       "1           PARDA       NÃO ELEITO  \n",
       "2          BRANCA         SUPLENTE  \n",
       "3          BRANCA         SUPLENTE  \n",
       "4          BRANCA         SUPLENTE  \n",
       "...           ...              ...  \n",
       "26259       PARDA         SUPLENTE  \n",
       "26260      BRANCA         SUPLENTE  \n",
       "26261      BRANCA         SUPLENTE  \n",
       "26262      BRANCA         SUPLENTE  \n",
       "26263      BRANCA         SUPLENTE  \n",
       "\n",
       "[26264 rows x 8 columns]"
      ]
     },
     "execution_count": 122,
     "metadata": {},
     "output_type": "execute_result"
    }
   ],
   "source": [
    "candidatos_2014[['ST_REELEICAO', 'NR_DESPESA_MAX_CAMPANHA', 'DS_GENERO', 'DS_GRAU_INSTRUCAO', 'NR_IDADE_DATA_POSSE', 'DS_ESTADO_CIVIL', 'DS_COR_RACA', 'DS_SIT_TOT_TURNO']]"
   ]
  },
  {
   "cell_type": "markdown",
   "metadata": {},
   "source": [
    "## Variável resultado (y_chapeu)"
   ]
  },
  {
   "cell_type": "code",
   "execution_count": 357,
   "metadata": {},
   "outputs": [
    {
     "data": {
      "text/plain": [
       "DS_SIT_TOT_TURNO\n",
       "#NULO#               3280\n",
       "2º TURNO               60\n",
       "ELEITO                143\n",
       "ELEITO POR MÉDIA      215\n",
       "ELEITO POR QP        1357\n",
       "NÃO ELEITO           4992\n",
       "SUPLENTE            16217\n",
       "Name: DS_SIT_TOT_TURNO, dtype: int64"
      ]
     },
     "execution_count": 357,
     "metadata": {},
     "output_type": "execute_result"
    }
   ],
   "source": [
    "candidatos_2014.groupby(['DS_SIT_TOT_TURNO'])['DS_SIT_TOT_TURNO'].count()"
   ]
  },
  {
   "cell_type": "markdown",
   "metadata": {},
   "source": [
    "## Escolha do número de vizinhos. Total dividido pelo número de categorias."
   ]
  },
  {
   "cell_type": "code",
   "execution_count": 349,
   "metadata": {},
   "outputs": [
    {
     "data": {
      "text/plain": [
       "7"
      ]
     },
     "execution_count": 349,
     "metadata": {},
     "output_type": "execute_result"
    }
   ],
   "source": [
    "candidatos_2014['DS_SIT_TOT_TURNO'].nunique()"
   ]
  },
  {
   "cell_type": "code",
   "execution_count": 381,
   "metadata": {},
   "outputs": [
    {
     "data": {
      "text/plain": [
       "26264"
      ]
     },
     "execution_count": 381,
     "metadata": {},
     "output_type": "execute_result"
    }
   ],
   "source": [
    "candidatos_2014['DS_SIT_TOT_TURNO'].count()"
   ]
  },
  {
   "cell_type": "code",
   "execution_count": 382,
   "metadata": {},
   "outputs": [
    {
     "data": {
      "text/plain": [
       "3752.0"
      ]
     },
     "execution_count": 382,
     "metadata": {},
     "output_type": "execute_result"
    }
   ],
   "source": [
    "candidatos_2014['DS_SIT_TOT_TURNO'].count() / candidatos_2014['DS_SIT_TOT_TURNO'].nunique()"
   ]
  },
  {
   "cell_type": "markdown",
   "metadata": {},
   "source": [
    "## Tiramos a categoria 'SUPLENTE' por ter um número muito alto em relação aos demais."
   ]
  },
  {
   "cell_type": "code",
   "execution_count": 380,
   "metadata": {
    "scrolled": true
   },
   "outputs": [
    {
     "data": {
      "text/plain": [
       "6"
      ]
     },
     "execution_count": 380,
     "metadata": {},
     "output_type": "execute_result"
    }
   ],
   "source": [
    "candidatos_2014[candidatos_2014['DS_SIT_TOT_TURNO'] != 'SUPLENTE']['DS_SIT_TOT_TURNO'].nunique()"
   ]
  },
  {
   "cell_type": "code",
   "execution_count": 378,
   "metadata": {},
   "outputs": [
    {
     "data": {
      "text/plain": [
       "10047"
      ]
     },
     "execution_count": 378,
     "metadata": {},
     "output_type": "execute_result"
    }
   ],
   "source": [
    "candidatos_2014[candidatos_2014['DS_SIT_TOT_TURNO'] != 'SUPLENTE']['DS_SIT_TOT_TURNO'].count()"
   ]
  },
  {
   "cell_type": "code",
   "execution_count": 383,
   "metadata": {},
   "outputs": [
    {
     "data": {
      "text/plain": [
       "1674.5"
      ]
     },
     "execution_count": 383,
     "metadata": {},
     "output_type": "execute_result"
    }
   ],
   "source": [
    "candidatos_2014[candidatos_2014['DS_SIT_TOT_TURNO'] != 'SUPLENTE']['DS_SIT_TOT_TURNO'].count() / candidatos_2014[candidatos_2014['DS_SIT_TOT_TURNO'] != 'SUPLENTE']['DS_SIT_TOT_TURNO'].nunique()"
   ]
  },
  {
   "cell_type": "markdown",
   "metadata": {},
   "source": [
    "## Usando KNN com 2 variavéis. ('ST_REELEICAO' e 'NR_DESPESA_MAX_CAMPANHA')"
   ]
  },
  {
   "cell_type": "code",
   "execution_count": 577,
   "metadata": {},
   "outputs": [],
   "source": [
    "X = candidatos_2014[(candidatos_2014['DS_CARGO'] != 'PRESIDENTE')&(candidatos_2014['DS_CARGO'] != 'VICE-PRESIDENTE')][['ST_REELEICAO','NR_DESPESA_MAX_CAMPANHA']]"
   ]
  },
  {
   "cell_type": "markdown",
   "metadata": {},
   "source": [
    "## Transformando a coluna 'ST_REELEICAO' para 'int'"
   ]
  },
  {
   "cell_type": "code",
   "execution_count": 578,
   "metadata": {},
   "outputs": [],
   "source": [
    "X['ST_REELEICAO'] = X['ST_REELEICAO'].cat.rename_categories([0,1])"
   ]
  },
  {
   "cell_type": "code",
   "execution_count": 579,
   "metadata": {},
   "outputs": [],
   "source": [
    "y = candidatos_2014[(candidatos_2014['DS_CARGO'] != 'PRESIDENTE')&(candidatos_2014['DS_CARGO'] != 'VICE-PRESIDENTE')]['DS_SIT_TOT_TURNO']"
   ]
  },
  {
   "cell_type": "markdown",
   "metadata": {},
   "source": [
    "## Dividindo data set em 'train' e 'test'"
   ]
  },
  {
   "cell_type": "code",
   "execution_count": 580,
   "metadata": {},
   "outputs": [],
   "source": [
    "X_train, X_test, y_train, y_test = train_test_split(X, y, test_size=0.33, random_state=42)"
   ]
  },
  {
   "cell_type": "code",
   "execution_count": 641,
   "metadata": {},
   "outputs": [
    {
     "name": "stdout",
     "output_type": "stream",
     "text": [
      "[5 5 5 ... 5 5 5]\n"
     ]
    }
   ],
   "source": [
    "from sklearn.neighbors import KNeighborsClassifier\n",
    "\n",
    "model = KNeighborsClassifier(n_neighbors= 1674, weights='distance')\n",
    "\n",
    "# Train the model using the training sets\n",
    "model.fit(X_train, np.array(y_train))\n",
    "\n",
    "#Predict Output\n",
    "predicted= model.predict(X_test) # 0:Overcast, 2:Mild\n",
    "print(predicted)"
   ]
  },
  {
   "cell_type": "code",
   "execution_count": 393,
   "metadata": {},
   "outputs": [
    {
     "data": {
      "text/plain": [
       "2650          SUPLENTE\n",
       "6056          SUPLENTE\n",
       "1249          SUPLENTE\n",
       "15987         SUPLENTE\n",
       "20772    ELEITO POR QP\n",
       "             ...      \n",
       "5411          SUPLENTE\n",
       "12592         SUPLENTE\n",
       "8940            #NULO#\n",
       "3202          SUPLENTE\n",
       "5261     ELEITO POR QP\n",
       "Name: DS_SIT_TOT_TURNO, Length: 8658, dtype: category\n",
       "Categories (7, object): [#NULO# < 2º TURNO < ELEITO < ELEITO POR MÉDIA < ELEITO POR QP < NÃO ELEITO < SUPLENTE]"
      ]
     },
     "execution_count": 393,
     "metadata": {},
     "output_type": "execute_result"
    }
   ],
   "source": [
    "y_test"
   ]
  },
  {
   "cell_type": "code",
   "execution_count": 385,
   "metadata": {},
   "outputs": [
    {
     "data": {
      "text/plain": [
       "array(['SUPLENTE', 'SUPLENTE', 'SUPLENTE', ..., '#NULO#', 'SUPLENTE',\n",
       "       'ELEITO POR QP'], dtype=object)"
      ]
     },
     "execution_count": 385,
     "metadata": {},
     "output_type": "execute_result"
    }
   ],
   "source": [
    "novo_y_test = np.array(y_test)\n",
    "novo_y_test"
   ]
  },
  {
   "cell_type": "code",
   "execution_count": 386,
   "metadata": {},
   "outputs": [
    {
     "data": {
      "text/plain": [
       "array(['SUPLENTE', 'SUPLENTE', 'SUPLENTE', ..., '#NULO#', 'SUPLENTE',\n",
       "       'SUPLENTE'], dtype=object)"
      ]
     },
     "execution_count": 386,
     "metadata": {},
     "output_type": "execute_result"
    }
   ],
   "source": [
    "predicted"
   ]
  },
  {
   "cell_type": "markdown",
   "metadata": {},
   "source": [
    "# Taxa de acerto (KNN)"
   ]
  },
  {
   "cell_type": "code",
   "execution_count": 387,
   "metadata": {},
   "outputs": [
    {
     "data": {
      "text/plain": [
       "0.782975282975283"
      ]
     },
     "execution_count": 387,
     "metadata": {},
     "output_type": "execute_result"
    }
   ],
   "source": [
    "1 - sum([y != p for y, p in zip(novo_y_test, predicted)]) /len(predicted)"
   ]
  },
  {
   "cell_type": "code",
   "execution_count": null,
   "metadata": {},
   "outputs": [],
   "source": []
  },
  {
   "cell_type": "markdown",
   "metadata": {},
   "source": [
    "# Usando Navi Bayes com 2 variáveis."
   ]
  },
  {
   "cell_type": "code",
   "execution_count": 368,
   "metadata": {},
   "outputs": [],
   "source": [
    "X = candidatos_2014[(candidatos_2014['DS_CARGO'] != 'PRESIDENTE')&(candidatos_2014['DS_CARGO'] != 'VICE-PRESIDENTE')][['ST_REELEICAO','NR_DESPESA_MAX_CAMPANHA']]"
   ]
  },
  {
   "cell_type": "code",
   "execution_count": 369,
   "metadata": {},
   "outputs": [],
   "source": [
    "y = candidatos_2014[(candidatos_2014['DS_CARGO'] != 'PRESIDENTE')&(candidatos_2014['DS_CARGO'] != 'VICE-PRESIDENTE')]['DS_SIT_TOT_TURNO']"
   ]
  },
  {
   "cell_type": "code",
   "execution_count": 370,
   "metadata": {},
   "outputs": [],
   "source": [
    "X['ST_REELEICAO'] = X['ST_REELEICAO'].cat.rename_categories([0,1])"
   ]
  },
  {
   "cell_type": "markdown",
   "metadata": {},
   "source": [
    "## Dividindo data set em 'train' e 'test'"
   ]
  },
  {
   "cell_type": "code",
   "execution_count": 371,
   "metadata": {},
   "outputs": [],
   "source": [
    "X_train, X_test, y_train, y_test = train_test_split(X, y, test_size=0.33, random_state=42)"
   ]
  },
  {
   "cell_type": "code",
   "execution_count": 341,
   "metadata": {},
   "outputs": [],
   "source": [
    "from sklearn import datasets\n",
    "from sklearn.naive_bayes import GaussianNB\n",
    "gnb = GaussianNB()\n",
    "y_pred = gnb.fit(X_train, y_train).predict(X_test)"
   ]
  },
  {
   "cell_type": "code",
   "execution_count": 342,
   "metadata": {},
   "outputs": [
    {
     "data": {
      "text/plain": [
       "array(['SUPLENTE', 'SUPLENTE', 'SUPLENTE', ..., '#NULO#', 'SUPLENTE',\n",
       "       'SUPLENTE'], dtype='<U16')"
      ]
     },
     "execution_count": 342,
     "metadata": {},
     "output_type": "execute_result"
    }
   ],
   "source": [
    "y_pred"
   ]
  },
  {
   "cell_type": "code",
   "execution_count": 344,
   "metadata": {},
   "outputs": [
    {
     "data": {
      "text/plain": [
       "array(['SUPLENTE', 'SUPLENTE', 'SUPLENTE', ..., '#NULO#', 'SUPLENTE',\n",
       "       'ELEITO POR QP'], dtype=object)"
      ]
     },
     "execution_count": 344,
     "metadata": {},
     "output_type": "execute_result"
    }
   ],
   "source": [
    "novo_y_test = np.array(y_test)\n",
    "novo_y_test"
   ]
  },
  {
   "cell_type": "markdown",
   "metadata": {},
   "source": [
    "# Taxa de acerto (Navi Bayes)"
   ]
  },
  {
   "cell_type": "code",
   "execution_count": 345,
   "metadata": {},
   "outputs": [
    {
     "data": {
      "text/plain": [
       "0.7428967428967429"
      ]
     },
     "execution_count": 345,
     "metadata": {},
     "output_type": "execute_result"
    }
   ],
   "source": [
    "1 - sum([y != p for y, p in zip(novo_y_test, y_pred)]) /len(y_pred)"
   ]
  },
  {
   "cell_type": "markdown",
   "metadata": {},
   "source": [
    "# Usando Random Forest e descobrindo variáveis importantes para o resultado"
   ]
  },
  {
   "cell_type": "code",
   "execution_count": 392,
   "metadata": {},
   "outputs": [],
   "source": [
    "import pandas as pd\n",
    "import numpy as np\n",
    "from fastaai_utils import add_datepart, train_cats, proc_df\n",
    "import os\n",
    "import math\n",
    "from sklearn.ensemble import RandomForestRegressor"
   ]
  },
  {
   "cell_type": "markdown",
   "metadata": {},
   "source": [
    "# Escolha das variáveis do modelo Random Forest"
   ]
  },
  {
   "cell_type": "code",
   "execution_count": 604,
   "metadata": {},
   "outputs": [],
   "source": [
    "modelo_tratamento = candidatos_2014[['NR_TURNO', 'TP_ABRANGENCIA','NM_UE','CD_CARGO','TP_AGREMIACAO', 'NR_PARTIDO', 'NR_IDADE_DATA_POSSE', 'CD_GENERO', 'CD_GRAU_INSTRUCAO', 'CD_ESTADO_CIVIL','CD_COR_RACA', 'NR_DESPESA_MAX_CAMPANHA', 'CD_SIT_TOT_TURNO','ST_REELEICAO']]"
   ]
  },
  {
   "cell_type": "markdown",
   "metadata": {},
   "source": [
    "## Escolhendo todos os candidatos que tenham a despesa total de campanha maior do que zero"
   ]
  },
  {
   "cell_type": "code",
   "execution_count": 605,
   "metadata": {},
   "outputs": [],
   "source": [
    "modelo_random = modelo_tratamento[modelo_tratamento['NR_DESPESA_MAX_CAMPANHA'] > 0]"
   ]
  },
  {
   "cell_type": "code",
   "execution_count": 606,
   "metadata": {},
   "outputs": [],
   "source": [
    "import pandas as pd\n",
    "import numpy as np\n",
    "from fastaai_utils import add_datepart, train_cats, proc_df\n",
    "import os\n",
    "import math\n",
    "from sklearn.ensemble import RandomForestRegressor\n",
    "from sklearn.ensemble import RandomForestClassifier\n",
    "from sklearn.datasets import make_classification"
   ]
  },
  {
   "cell_type": "code",
   "execution_count": 607,
   "metadata": {},
   "outputs": [],
   "source": [
    "df_raw = modelo_random"
   ]
  },
  {
   "cell_type": "code",
   "execution_count": 611,
   "metadata": {},
   "outputs": [
    {
     "data": {
      "text/html": [
       "<div>\n",
       "<style scoped>\n",
       "    .dataframe tbody tr th:only-of-type {\n",
       "        vertical-align: middle;\n",
       "    }\n",
       "\n",
       "    .dataframe tbody tr th {\n",
       "        vertical-align: top;\n",
       "    }\n",
       "\n",
       "    .dataframe thead th {\n",
       "        text-align: right;\n",
       "    }\n",
       "</style>\n",
       "<table border=\"1\" class=\"dataframe\">\n",
       "  <thead>\n",
       "    <tr style=\"text-align: right;\">\n",
       "      <th></th>\n",
       "      <th>0</th>\n",
       "      <th>1</th>\n",
       "      <th>2</th>\n",
       "      <th>3</th>\n",
       "      <th>4</th>\n",
       "    </tr>\n",
       "  </thead>\n",
       "  <tbody>\n",
       "    <tr>\n",
       "      <td>NR_TURNO</td>\n",
       "      <td>1</td>\n",
       "      <td>1</td>\n",
       "      <td>1</td>\n",
       "      <td>1</td>\n",
       "      <td>1</td>\n",
       "    </tr>\n",
       "    <tr>\n",
       "      <td>TP_ABRANGENCIA</td>\n",
       "      <td>FEDERAL</td>\n",
       "      <td>FEDERAL</td>\n",
       "      <td>FEDERAL</td>\n",
       "      <td>FEDERAL</td>\n",
       "      <td>FEDERAL</td>\n",
       "    </tr>\n",
       "    <tr>\n",
       "      <td>NM_UE</td>\n",
       "      <td>PARANÁ</td>\n",
       "      <td>ALAGOAS</td>\n",
       "      <td>RIO DE JANEIRO</td>\n",
       "      <td>RIO DE JANEIRO</td>\n",
       "      <td>RIO DE JANEIRO</td>\n",
       "    </tr>\n",
       "    <tr>\n",
       "      <td>CD_CARGO</td>\n",
       "      <td>3</td>\n",
       "      <td>7</td>\n",
       "      <td>7</td>\n",
       "      <td>7</td>\n",
       "      <td>7</td>\n",
       "    </tr>\n",
       "    <tr>\n",
       "      <td>TP_AGREMIACAO</td>\n",
       "      <td>COLIGAÇÃO</td>\n",
       "      <td>PARTIDO ISOLADO</td>\n",
       "      <td>COLIGAÇÃO</td>\n",
       "      <td>PARTIDO ISOLADO</td>\n",
       "      <td>COLIGAÇÃO</td>\n",
       "    </tr>\n",
       "    <tr>\n",
       "      <td>NR_PARTIDO</td>\n",
       "      <td>13</td>\n",
       "      <td>36</td>\n",
       "      <td>36</td>\n",
       "      <td>31</td>\n",
       "      <td>25</td>\n",
       "    </tr>\n",
       "    <tr>\n",
       "      <td>NR_IDADE_DATA_POSSE</td>\n",
       "      <td>49</td>\n",
       "      <td>50</td>\n",
       "      <td>46</td>\n",
       "      <td>74</td>\n",
       "      <td>48</td>\n",
       "    </tr>\n",
       "    <tr>\n",
       "      <td>CD_GENERO</td>\n",
       "      <td>4</td>\n",
       "      <td>2</td>\n",
       "      <td>2</td>\n",
       "      <td>4</td>\n",
       "      <td>4</td>\n",
       "    </tr>\n",
       "    <tr>\n",
       "      <td>CD_GRAU_INSTRUCAO</td>\n",
       "      <td>8</td>\n",
       "      <td>4</td>\n",
       "      <td>3</td>\n",
       "      <td>8</td>\n",
       "      <td>8</td>\n",
       "    </tr>\n",
       "    <tr>\n",
       "      <td>CD_ESTADO_CIVIL</td>\n",
       "      <td>9</td>\n",
       "      <td>3</td>\n",
       "      <td>9</td>\n",
       "      <td>1</td>\n",
       "      <td>3</td>\n",
       "    </tr>\n",
       "    <tr>\n",
       "      <td>CD_COR_RACA</td>\n",
       "      <td>1</td>\n",
       "      <td>3</td>\n",
       "      <td>1</td>\n",
       "      <td>1</td>\n",
       "      <td>1</td>\n",
       "    </tr>\n",
       "    <tr>\n",
       "      <td>NR_DESPESA_MAX_CAMPANHA</td>\n",
       "      <td>36000000</td>\n",
       "      <td>20000000</td>\n",
       "      <td>2000000</td>\n",
       "      <td>5000000</td>\n",
       "      <td>1000000</td>\n",
       "    </tr>\n",
       "    <tr>\n",
       "      <td>CD_SIT_TOT_TURNO</td>\n",
       "      <td>4</td>\n",
       "      <td>4</td>\n",
       "      <td>5</td>\n",
       "      <td>5</td>\n",
       "      <td>5</td>\n",
       "    </tr>\n",
       "    <tr>\n",
       "      <td>ST_REELEICAO</td>\n",
       "      <td>N</td>\n",
       "      <td>N</td>\n",
       "      <td>N</td>\n",
       "      <td>N</td>\n",
       "      <td>N</td>\n",
       "    </tr>\n",
       "  </tbody>\n",
       "</table>\n",
       "</div>"
      ],
      "text/plain": [
       "                                 0                1               2  \\\n",
       "NR_TURNO                         1                1               1   \n",
       "TP_ABRANGENCIA             FEDERAL          FEDERAL         FEDERAL   \n",
       "NM_UE                       PARANÁ          ALAGOAS  RIO DE JANEIRO   \n",
       "CD_CARGO                         3                7               7   \n",
       "TP_AGREMIACAO            COLIGAÇÃO  PARTIDO ISOLADO       COLIGAÇÃO   \n",
       "NR_PARTIDO                      13               36              36   \n",
       "NR_IDADE_DATA_POSSE             49               50              46   \n",
       "CD_GENERO                        4                2               2   \n",
       "CD_GRAU_INSTRUCAO                8                4               3   \n",
       "CD_ESTADO_CIVIL                  9                3               9   \n",
       "CD_COR_RACA                      1                3               1   \n",
       "NR_DESPESA_MAX_CAMPANHA   36000000         20000000         2000000   \n",
       "CD_SIT_TOT_TURNO                 4                4               5   \n",
       "ST_REELEICAO                     N                N               N   \n",
       "\n",
       "                                       3               4  \n",
       "NR_TURNO                               1               1  \n",
       "TP_ABRANGENCIA                   FEDERAL         FEDERAL  \n",
       "NM_UE                     RIO DE JANEIRO  RIO DE JANEIRO  \n",
       "CD_CARGO                               7               7  \n",
       "TP_AGREMIACAO            PARTIDO ISOLADO       COLIGAÇÃO  \n",
       "NR_PARTIDO                            31              25  \n",
       "NR_IDADE_DATA_POSSE                   74              48  \n",
       "CD_GENERO                              4               4  \n",
       "CD_GRAU_INSTRUCAO                      8               8  \n",
       "CD_ESTADO_CIVIL                        1               3  \n",
       "CD_COR_RACA                            1               1  \n",
       "NR_DESPESA_MAX_CAMPANHA          5000000         1000000  \n",
       "CD_SIT_TOT_TURNO                       5               5  \n",
       "ST_REELEICAO                           N               N  "
      ]
     },
     "execution_count": 611,
     "metadata": {},
     "output_type": "execute_result"
    }
   ],
   "source": [
    "df_raw.head().T"
   ]
  },
  {
   "cell_type": "markdown",
   "metadata": {},
   "source": [
    "## Log do campo de depesa de campanha para normalizar os valores"
   ]
  },
  {
   "cell_type": "code",
   "execution_count": 612,
   "metadata": {
    "scrolled": true
   },
   "outputs": [],
   "source": [
    "df_raw.NR_DESPESA_MAX_CAMPANHA = np.log(df_raw.NR_DESPESA_MAX_CAMPANHA)"
   ]
  },
  {
   "cell_type": "markdown",
   "metadata": {},
   "source": [
    "## Passando para 'int' as colunas com dtype 'category'"
   ]
  },
  {
   "cell_type": "code",
   "execution_count": 613,
   "metadata": {},
   "outputs": [],
   "source": [
    "df_raw.ST_REELEICAO = df_raw.ST_REELEICAO.cat.codes"
   ]
  },
  {
   "cell_type": "code",
   "execution_count": 614,
   "metadata": {},
   "outputs": [],
   "source": [
    "df_raw.TP_ABRANGENCIA = df_raw.TP_ABRANGENCIA.cat.codes"
   ]
  },
  {
   "cell_type": "code",
   "execution_count": 615,
   "metadata": {},
   "outputs": [],
   "source": [
    "df_raw.NM_UE = df_raw.NM_UE.cat.codes"
   ]
  },
  {
   "cell_type": "code",
   "execution_count": 616,
   "metadata": {},
   "outputs": [],
   "source": [
    "df_raw.TP_AGREMIACAO = df_raw.TP_AGREMIACAO.cat.codes"
   ]
  },
  {
   "cell_type": "markdown",
   "metadata": {},
   "source": [
    "## Checar relação entre as variáveis"
   ]
  },
  {
   "cell_type": "code",
   "execution_count": 617,
   "metadata": {},
   "outputs": [],
   "source": [
    "modelo = df_raw"
   ]
  },
  {
   "cell_type": "code",
   "execution_count": 618,
   "metadata": {},
   "outputs": [
    {
     "data": {
      "text/html": [
       "<div>\n",
       "<style scoped>\n",
       "    .dataframe tbody tr th:only-of-type {\n",
       "        vertical-align: middle;\n",
       "    }\n",
       "\n",
       "    .dataframe tbody tr th {\n",
       "        vertical-align: top;\n",
       "    }\n",
       "\n",
       "    .dataframe thead th {\n",
       "        text-align: right;\n",
       "    }\n",
       "</style>\n",
       "<table border=\"1\" class=\"dataframe\">\n",
       "  <thead>\n",
       "    <tr style=\"text-align: right;\">\n",
       "      <th></th>\n",
       "      <th>NR_TURNO</th>\n",
       "      <th>TP_ABRANGENCIA</th>\n",
       "      <th>NM_UE</th>\n",
       "      <th>CD_CARGO</th>\n",
       "      <th>TP_AGREMIACAO</th>\n",
       "      <th>NR_PARTIDO</th>\n",
       "      <th>NR_IDADE_DATA_POSSE</th>\n",
       "      <th>CD_GENERO</th>\n",
       "      <th>CD_GRAU_INSTRUCAO</th>\n",
       "      <th>CD_ESTADO_CIVIL</th>\n",
       "      <th>CD_COR_RACA</th>\n",
       "      <th>NR_DESPESA_MAX_CAMPANHA</th>\n",
       "      <th>CD_SIT_TOT_TURNO</th>\n",
       "      <th>ST_REELEICAO</th>\n",
       "    </tr>\n",
       "  </thead>\n",
       "  <tbody>\n",
       "    <tr>\n",
       "      <td>NR_TURNO</td>\n",
       "      <td>nan</td>\n",
       "      <td>nan</td>\n",
       "      <td>nan</td>\n",
       "      <td>nan</td>\n",
       "      <td>nan</td>\n",
       "      <td>nan</td>\n",
       "      <td>nan</td>\n",
       "      <td>nan</td>\n",
       "      <td>nan</td>\n",
       "      <td>nan</td>\n",
       "      <td>nan</td>\n",
       "      <td>nan</td>\n",
       "      <td>nan</td>\n",
       "      <td>nan</td>\n",
       "    </tr>\n",
       "    <tr>\n",
       "      <td>TP_ABRANGENCIA</td>\n",
       "      <td>nan</td>\n",
       "      <td>1.000</td>\n",
       "      <td>0.031</td>\n",
       "      <td>0.116</td>\n",
       "      <td>-0.001</td>\n",
       "      <td>0.010</td>\n",
       "      <td>-0.004</td>\n",
       "      <td>0.003</td>\n",
       "      <td>-0.016</td>\n",
       "      <td>-0.001</td>\n",
       "      <td>-0.011</td>\n",
       "      <td>-0.042</td>\n",
       "      <td>0.004</td>\n",
       "      <td>0.004</td>\n",
       "    </tr>\n",
       "    <tr>\n",
       "      <td>NM_UE</td>\n",
       "      <td>nan</td>\n",
       "      <td>0.031</td>\n",
       "      <td>1.000</td>\n",
       "      <td>-0.129</td>\n",
       "      <td>0.229</td>\n",
       "      <td>-0.005</td>\n",
       "      <td>0.050</td>\n",
       "      <td>-0.005</td>\n",
       "      <td>0.000</td>\n",
       "      <td>0.031</td>\n",
       "      <td>-0.214</td>\n",
       "      <td>0.203</td>\n",
       "      <td>-0.000</td>\n",
       "      <td>0.004</td>\n",
       "    </tr>\n",
       "    <tr>\n",
       "      <td>CD_CARGO</td>\n",
       "      <td>nan</td>\n",
       "      <td>0.116</td>\n",
       "      <td>-0.129</td>\n",
       "      <td>1.000</td>\n",
       "      <td>0.020</td>\n",
       "      <td>0.025</td>\n",
       "      <td>-0.065</td>\n",
       "      <td>0.022</td>\n",
       "      <td>-0.086</td>\n",
       "      <td>-0.016</td>\n",
       "      <td>0.062</td>\n",
       "      <td>-0.169</td>\n",
       "      <td>0.147</td>\n",
       "      <td>-0.023</td>\n",
       "    </tr>\n",
       "    <tr>\n",
       "      <td>TP_AGREMIACAO</td>\n",
       "      <td>nan</td>\n",
       "      <td>-0.001</td>\n",
       "      <td>0.229</td>\n",
       "      <td>0.020</td>\n",
       "      <td>1.000</td>\n",
       "      <td>0.018</td>\n",
       "      <td>0.005</td>\n",
       "      <td>0.009</td>\n",
       "      <td>0.000</td>\n",
       "      <td>0.011</td>\n",
       "      <td>-0.060</td>\n",
       "      <td>-0.065</td>\n",
       "      <td>-0.061</td>\n",
       "      <td>-0.039</td>\n",
       "    </tr>\n",
       "    <tr>\n",
       "      <td>NR_PARTIDO</td>\n",
       "      <td>nan</td>\n",
       "      <td>0.010</td>\n",
       "      <td>-0.005</td>\n",
       "      <td>0.025</td>\n",
       "      <td>0.018</td>\n",
       "      <td>1.000</td>\n",
       "      <td>-0.057</td>\n",
       "      <td>-0.013</td>\n",
       "      <td>-0.040</td>\n",
       "      <td>-0.012</td>\n",
       "      <td>0.043</td>\n",
       "      <td>-0.054</td>\n",
       "      <td>-0.007</td>\n",
       "      <td>-0.029</td>\n",
       "    </tr>\n",
       "    <tr>\n",
       "      <td>NR_IDADE_DATA_POSSE</td>\n",
       "      <td>nan</td>\n",
       "      <td>-0.004</td>\n",
       "      <td>0.050</td>\n",
       "      <td>-0.065</td>\n",
       "      <td>0.005</td>\n",
       "      <td>-0.057</td>\n",
       "      <td>1.000</td>\n",
       "      <td>-0.090</td>\n",
       "      <td>-0.013</td>\n",
       "      <td>0.269</td>\n",
       "      <td>-0.060</td>\n",
       "      <td>0.129</td>\n",
       "      <td>-0.050</td>\n",
       "      <td>0.115</td>\n",
       "    </tr>\n",
       "    <tr>\n",
       "      <td>CD_GENERO</td>\n",
       "      <td>nan</td>\n",
       "      <td>0.003</td>\n",
       "      <td>-0.005</td>\n",
       "      <td>0.022</td>\n",
       "      <td>0.009</td>\n",
       "      <td>-0.013</td>\n",
       "      <td>-0.090</td>\n",
       "      <td>1.000</td>\n",
       "      <td>-0.036</td>\n",
       "      <td>-0.019</td>\n",
       "      <td>0.019</td>\n",
       "      <td>-0.025</td>\n",
       "      <td>0.100</td>\n",
       "      <td>-0.075</td>\n",
       "    </tr>\n",
       "    <tr>\n",
       "      <td>CD_GRAU_INSTRUCAO</td>\n",
       "      <td>nan</td>\n",
       "      <td>-0.016</td>\n",
       "      <td>0.000</td>\n",
       "      <td>-0.086</td>\n",
       "      <td>0.000</td>\n",
       "      <td>-0.040</td>\n",
       "      <td>-0.013</td>\n",
       "      <td>-0.036</td>\n",
       "      <td>1.000</td>\n",
       "      <td>0.060</td>\n",
       "      <td>-0.137</td>\n",
       "      <td>0.047</td>\n",
       "      <td>-0.115</td>\n",
       "      <td>0.110</td>\n",
       "    </tr>\n",
       "    <tr>\n",
       "      <td>CD_ESTADO_CIVIL</td>\n",
       "      <td>nan</td>\n",
       "      <td>-0.001</td>\n",
       "      <td>0.031</td>\n",
       "      <td>-0.016</td>\n",
       "      <td>0.011</td>\n",
       "      <td>-0.012</td>\n",
       "      <td>0.269</td>\n",
       "      <td>-0.019</td>\n",
       "      <td>0.060</td>\n",
       "      <td>1.000</td>\n",
       "      <td>-0.051</td>\n",
       "      <td>0.071</td>\n",
       "      <td>-0.010</td>\n",
       "      <td>0.031</td>\n",
       "    </tr>\n",
       "    <tr>\n",
       "      <td>CD_COR_RACA</td>\n",
       "      <td>nan</td>\n",
       "      <td>-0.011</td>\n",
       "      <td>-0.214</td>\n",
       "      <td>0.062</td>\n",
       "      <td>-0.060</td>\n",
       "      <td>0.043</td>\n",
       "      <td>-0.060</td>\n",
       "      <td>0.019</td>\n",
       "      <td>-0.137</td>\n",
       "      <td>-0.051</td>\n",
       "      <td>1.000</td>\n",
       "      <td>-0.116</td>\n",
       "      <td>0.092</td>\n",
       "      <td>-0.079</td>\n",
       "    </tr>\n",
       "    <tr>\n",
       "      <td>NR_DESPESA_MAX_CAMPANHA</td>\n",
       "      <td>nan</td>\n",
       "      <td>-0.042</td>\n",
       "      <td>0.203</td>\n",
       "      <td>-0.169</td>\n",
       "      <td>-0.065</td>\n",
       "      <td>-0.054</td>\n",
       "      <td>0.129</td>\n",
       "      <td>-0.025</td>\n",
       "      <td>0.047</td>\n",
       "      <td>0.071</td>\n",
       "      <td>-0.116</td>\n",
       "      <td>1.000</td>\n",
       "      <td>0.036</td>\n",
       "      <td>0.076</td>\n",
       "    </tr>\n",
       "    <tr>\n",
       "      <td>CD_SIT_TOT_TURNO</td>\n",
       "      <td>nan</td>\n",
       "      <td>0.004</td>\n",
       "      <td>-0.000</td>\n",
       "      <td>0.147</td>\n",
       "      <td>-0.061</td>\n",
       "      <td>-0.007</td>\n",
       "      <td>-0.050</td>\n",
       "      <td>0.100</td>\n",
       "      <td>-0.115</td>\n",
       "      <td>-0.010</td>\n",
       "      <td>0.092</td>\n",
       "      <td>0.036</td>\n",
       "      <td>1.000</td>\n",
       "      <td>-0.415</td>\n",
       "    </tr>\n",
       "    <tr>\n",
       "      <td>ST_REELEICAO</td>\n",
       "      <td>nan</td>\n",
       "      <td>0.004</td>\n",
       "      <td>0.004</td>\n",
       "      <td>-0.023</td>\n",
       "      <td>-0.039</td>\n",
       "      <td>-0.029</td>\n",
       "      <td>0.115</td>\n",
       "      <td>-0.075</td>\n",
       "      <td>0.110</td>\n",
       "      <td>0.031</td>\n",
       "      <td>-0.079</td>\n",
       "      <td>0.076</td>\n",
       "      <td>-0.415</td>\n",
       "      <td>1.000</td>\n",
       "    </tr>\n",
       "  </tbody>\n",
       "</table>\n",
       "</div>"
      ],
      "text/plain": [
       "                         NR_TURNO  TP_ABRANGENCIA  NM_UE  CD_CARGO  \\\n",
       "NR_TURNO                      nan             nan    nan       nan   \n",
       "TP_ABRANGENCIA                nan           1.000  0.031     0.116   \n",
       "NM_UE                         nan           0.031  1.000    -0.129   \n",
       "CD_CARGO                      nan           0.116 -0.129     1.000   \n",
       "TP_AGREMIACAO                 nan          -0.001  0.229     0.020   \n",
       "NR_PARTIDO                    nan           0.010 -0.005     0.025   \n",
       "NR_IDADE_DATA_POSSE           nan          -0.004  0.050    -0.065   \n",
       "CD_GENERO                     nan           0.003 -0.005     0.022   \n",
       "CD_GRAU_INSTRUCAO             nan          -0.016  0.000    -0.086   \n",
       "CD_ESTADO_CIVIL               nan          -0.001  0.031    -0.016   \n",
       "CD_COR_RACA                   nan          -0.011 -0.214     0.062   \n",
       "NR_DESPESA_MAX_CAMPANHA       nan          -0.042  0.203    -0.169   \n",
       "CD_SIT_TOT_TURNO              nan           0.004 -0.000     0.147   \n",
       "ST_REELEICAO                  nan           0.004  0.004    -0.023   \n",
       "\n",
       "                         TP_AGREMIACAO  NR_PARTIDO  NR_IDADE_DATA_POSSE  \\\n",
       "NR_TURNO                           nan         nan                  nan   \n",
       "TP_ABRANGENCIA                  -0.001       0.010               -0.004   \n",
       "NM_UE                            0.229      -0.005                0.050   \n",
       "CD_CARGO                         0.020       0.025               -0.065   \n",
       "TP_AGREMIACAO                    1.000       0.018                0.005   \n",
       "NR_PARTIDO                       0.018       1.000               -0.057   \n",
       "NR_IDADE_DATA_POSSE              0.005      -0.057                1.000   \n",
       "CD_GENERO                        0.009      -0.013               -0.090   \n",
       "CD_GRAU_INSTRUCAO                0.000      -0.040               -0.013   \n",
       "CD_ESTADO_CIVIL                  0.011      -0.012                0.269   \n",
       "CD_COR_RACA                     -0.060       0.043               -0.060   \n",
       "NR_DESPESA_MAX_CAMPANHA         -0.065      -0.054                0.129   \n",
       "CD_SIT_TOT_TURNO                -0.061      -0.007               -0.050   \n",
       "ST_REELEICAO                    -0.039      -0.029                0.115   \n",
       "\n",
       "                         CD_GENERO  CD_GRAU_INSTRUCAO  CD_ESTADO_CIVIL  \\\n",
       "NR_TURNO                       nan                nan              nan   \n",
       "TP_ABRANGENCIA               0.003             -0.016           -0.001   \n",
       "NM_UE                       -0.005              0.000            0.031   \n",
       "CD_CARGO                     0.022             -0.086           -0.016   \n",
       "TP_AGREMIACAO                0.009              0.000            0.011   \n",
       "NR_PARTIDO                  -0.013             -0.040           -0.012   \n",
       "NR_IDADE_DATA_POSSE         -0.090             -0.013            0.269   \n",
       "CD_GENERO                    1.000             -0.036           -0.019   \n",
       "CD_GRAU_INSTRUCAO           -0.036              1.000            0.060   \n",
       "CD_ESTADO_CIVIL             -0.019              0.060            1.000   \n",
       "CD_COR_RACA                  0.019             -0.137           -0.051   \n",
       "NR_DESPESA_MAX_CAMPANHA     -0.025              0.047            0.071   \n",
       "CD_SIT_TOT_TURNO             0.100             -0.115           -0.010   \n",
       "ST_REELEICAO                -0.075              0.110            0.031   \n",
       "\n",
       "                         CD_COR_RACA  NR_DESPESA_MAX_CAMPANHA  \\\n",
       "NR_TURNO                         nan                      nan   \n",
       "TP_ABRANGENCIA                -0.011                   -0.042   \n",
       "NM_UE                         -0.214                    0.203   \n",
       "CD_CARGO                       0.062                   -0.169   \n",
       "TP_AGREMIACAO                 -0.060                   -0.065   \n",
       "NR_PARTIDO                     0.043                   -0.054   \n",
       "NR_IDADE_DATA_POSSE           -0.060                    0.129   \n",
       "CD_GENERO                      0.019                   -0.025   \n",
       "CD_GRAU_INSTRUCAO             -0.137                    0.047   \n",
       "CD_ESTADO_CIVIL               -0.051                    0.071   \n",
       "CD_COR_RACA                    1.000                   -0.116   \n",
       "NR_DESPESA_MAX_CAMPANHA       -0.116                    1.000   \n",
       "CD_SIT_TOT_TURNO               0.092                    0.036   \n",
       "ST_REELEICAO                  -0.079                    0.076   \n",
       "\n",
       "                         CD_SIT_TOT_TURNO  ST_REELEICAO  \n",
       "NR_TURNO                              nan           nan  \n",
       "TP_ABRANGENCIA                      0.004         0.004  \n",
       "NM_UE                              -0.000         0.004  \n",
       "CD_CARGO                            0.147        -0.023  \n",
       "TP_AGREMIACAO                      -0.061        -0.039  \n",
       "NR_PARTIDO                         -0.007        -0.029  \n",
       "NR_IDADE_DATA_POSSE                -0.050         0.115  \n",
       "CD_GENERO                           0.100        -0.075  \n",
       "CD_GRAU_INSTRUCAO                  -0.115         0.110  \n",
       "CD_ESTADO_CIVIL                    -0.010         0.031  \n",
       "CD_COR_RACA                         0.092        -0.079  \n",
       "NR_DESPESA_MAX_CAMPANHA             0.036         0.076  \n",
       "CD_SIT_TOT_TURNO                    1.000        -0.415  \n",
       "ST_REELEICAO                       -0.415         1.000  "
      ]
     },
     "execution_count": 618,
     "metadata": {},
     "output_type": "execute_result"
    }
   ],
   "source": [
    "modelo.corr()"
   ]
  },
  {
   "cell_type": "code",
   "execution_count": 619,
   "metadata": {},
   "outputs": [
    {
     "data": {
      "text/html": [
       "<div>\n",
       "<style scoped>\n",
       "    .dataframe tbody tr th:only-of-type {\n",
       "        vertical-align: middle;\n",
       "    }\n",
       "\n",
       "    .dataframe tbody tr th {\n",
       "        vertical-align: top;\n",
       "    }\n",
       "\n",
       "    .dataframe thead th {\n",
       "        text-align: right;\n",
       "    }\n",
       "</style>\n",
       "<table border=\"1\" class=\"dataframe\">\n",
       "  <thead>\n",
       "    <tr style=\"text-align: right;\">\n",
       "      <th></th>\n",
       "      <th>0</th>\n",
       "      <th>1</th>\n",
       "      <th>2</th>\n",
       "      <th>3</th>\n",
       "      <th>4</th>\n",
       "    </tr>\n",
       "  </thead>\n",
       "  <tbody>\n",
       "    <tr>\n",
       "      <td>NR_TURNO</td>\n",
       "      <td>1.000</td>\n",
       "      <td>1.000</td>\n",
       "      <td>1.000</td>\n",
       "      <td>1.000</td>\n",
       "      <td>1.000</td>\n",
       "    </tr>\n",
       "    <tr>\n",
       "      <td>TP_ABRANGENCIA</td>\n",
       "      <td>1.000</td>\n",
       "      <td>1.000</td>\n",
       "      <td>1.000</td>\n",
       "      <td>1.000</td>\n",
       "      <td>1.000</td>\n",
       "    </tr>\n",
       "    <tr>\n",
       "      <td>NM_UE</td>\n",
       "      <td>14.000</td>\n",
       "      <td>1.000</td>\n",
       "      <td>19.000</td>\n",
       "      <td>19.000</td>\n",
       "      <td>19.000</td>\n",
       "    </tr>\n",
       "    <tr>\n",
       "      <td>CD_CARGO</td>\n",
       "      <td>3.000</td>\n",
       "      <td>7.000</td>\n",
       "      <td>7.000</td>\n",
       "      <td>7.000</td>\n",
       "      <td>7.000</td>\n",
       "    </tr>\n",
       "    <tr>\n",
       "      <td>TP_AGREMIACAO</td>\n",
       "      <td>0.000</td>\n",
       "      <td>1.000</td>\n",
       "      <td>0.000</td>\n",
       "      <td>1.000</td>\n",
       "      <td>0.000</td>\n",
       "    </tr>\n",
       "    <tr>\n",
       "      <td>NR_PARTIDO</td>\n",
       "      <td>13.000</td>\n",
       "      <td>36.000</td>\n",
       "      <td>36.000</td>\n",
       "      <td>31.000</td>\n",
       "      <td>25.000</td>\n",
       "    </tr>\n",
       "    <tr>\n",
       "      <td>NR_IDADE_DATA_POSSE</td>\n",
       "      <td>49.000</td>\n",
       "      <td>50.000</td>\n",
       "      <td>46.000</td>\n",
       "      <td>74.000</td>\n",
       "      <td>48.000</td>\n",
       "    </tr>\n",
       "    <tr>\n",
       "      <td>CD_GENERO</td>\n",
       "      <td>4.000</td>\n",
       "      <td>2.000</td>\n",
       "      <td>2.000</td>\n",
       "      <td>4.000</td>\n",
       "      <td>4.000</td>\n",
       "    </tr>\n",
       "    <tr>\n",
       "      <td>CD_GRAU_INSTRUCAO</td>\n",
       "      <td>8.000</td>\n",
       "      <td>4.000</td>\n",
       "      <td>3.000</td>\n",
       "      <td>8.000</td>\n",
       "      <td>8.000</td>\n",
       "    </tr>\n",
       "    <tr>\n",
       "      <td>CD_ESTADO_CIVIL</td>\n",
       "      <td>9.000</td>\n",
       "      <td>3.000</td>\n",
       "      <td>9.000</td>\n",
       "      <td>1.000</td>\n",
       "      <td>3.000</td>\n",
       "    </tr>\n",
       "    <tr>\n",
       "      <td>CD_COR_RACA</td>\n",
       "      <td>1.000</td>\n",
       "      <td>3.000</td>\n",
       "      <td>1.000</td>\n",
       "      <td>1.000</td>\n",
       "      <td>1.000</td>\n",
       "    </tr>\n",
       "    <tr>\n",
       "      <td>NR_DESPESA_MAX_CAMPANHA</td>\n",
       "      <td>17.399</td>\n",
       "      <td>16.811</td>\n",
       "      <td>14.509</td>\n",
       "      <td>15.425</td>\n",
       "      <td>13.816</td>\n",
       "    </tr>\n",
       "    <tr>\n",
       "      <td>CD_SIT_TOT_TURNO</td>\n",
       "      <td>4.000</td>\n",
       "      <td>4.000</td>\n",
       "      <td>5.000</td>\n",
       "      <td>5.000</td>\n",
       "      <td>5.000</td>\n",
       "    </tr>\n",
       "    <tr>\n",
       "      <td>ST_REELEICAO</td>\n",
       "      <td>0.000</td>\n",
       "      <td>0.000</td>\n",
       "      <td>0.000</td>\n",
       "      <td>0.000</td>\n",
       "      <td>0.000</td>\n",
       "    </tr>\n",
       "  </tbody>\n",
       "</table>\n",
       "</div>"
      ],
      "text/plain": [
       "                             0      1      2      3      4\n",
       "NR_TURNO                 1.000  1.000  1.000  1.000  1.000\n",
       "TP_ABRANGENCIA           1.000  1.000  1.000  1.000  1.000\n",
       "NM_UE                   14.000  1.000 19.000 19.000 19.000\n",
       "CD_CARGO                 3.000  7.000  7.000  7.000  7.000\n",
       "TP_AGREMIACAO            0.000  1.000  0.000  1.000  0.000\n",
       "NR_PARTIDO              13.000 36.000 36.000 31.000 25.000\n",
       "NR_IDADE_DATA_POSSE     49.000 50.000 46.000 74.000 48.000\n",
       "CD_GENERO                4.000  2.000  2.000  4.000  4.000\n",
       "CD_GRAU_INSTRUCAO        8.000  4.000  3.000  8.000  8.000\n",
       "CD_ESTADO_CIVIL          9.000  3.000  9.000  1.000  3.000\n",
       "CD_COR_RACA              1.000  3.000  1.000  1.000  1.000\n",
       "NR_DESPESA_MAX_CAMPANHA 17.399 16.811 14.509 15.425 13.816\n",
       "CD_SIT_TOT_TURNO         4.000  4.000  5.000  5.000  5.000\n",
       "ST_REELEICAO             0.000  0.000  0.000  0.000  0.000"
      ]
     },
     "execution_count": 619,
     "metadata": {},
     "output_type": "execute_result"
    }
   ],
   "source": [
    "modelo.head().T"
   ]
  },
  {
   "cell_type": "markdown",
   "metadata": {},
   "source": [
    "# Modelo Random Forest Classifier"
   ]
  },
  {
   "cell_type": "code",
   "execution_count": 621,
   "metadata": {},
   "outputs": [],
   "source": [
    "X = modelo.drop(['CD_SIT_TOT_TURNO'], axis=1)"
   ]
  },
  {
   "cell_type": "code",
   "execution_count": 622,
   "metadata": {},
   "outputs": [],
   "source": [
    "y = modelo.CD_SIT_TOT_TURNO"
   ]
  },
  {
   "cell_type": "code",
   "execution_count": null,
   "metadata": {},
   "outputs": [],
   "source": [
    "X_train, X_test, y_train, y_test = train_test_split(X, y, test_size=0.33, random_state=84)"
   ]
  },
  {
   "cell_type": "code",
   "execution_count": 623,
   "metadata": {},
   "outputs": [],
   "source": [
    "clf = RandomForestClassifier(n_estimators=100, max_depth=2,\n",
    "                             random_state=0)"
   ]
  },
  {
   "cell_type": "code",
   "execution_count": 624,
   "metadata": {},
   "outputs": [
    {
     "data": {
      "text/plain": [
       "RandomForestClassifier(bootstrap=True, class_weight=None, criterion='gini',\n",
       "                       max_depth=2, max_features='auto', max_leaf_nodes=None,\n",
       "                       min_impurity_decrease=0.0, min_impurity_split=None,\n",
       "                       min_samples_leaf=1, min_samples_split=2,\n",
       "                       min_weight_fraction_leaf=0.0, n_estimators=100,\n",
       "                       n_jobs=None, oob_score=False, random_state=0, verbose=0,\n",
       "                       warm_start=False)"
      ]
     },
     "execution_count": 624,
     "metadata": {},
     "output_type": "execute_result"
    }
   ],
   "source": [
    "clf.fit(X_train, np.array(y_train))"
   ]
  },
  {
   "cell_type": "markdown",
   "metadata": {},
   "source": [
    "# Validando as variáveis mais influentes no resultado"
   ]
  },
  {
   "cell_type": "code",
   "execution_count": 625,
   "metadata": {},
   "outputs": [
    {
     "name": "stdout",
     "output_type": "stream",
     "text": [
      "[0.         0.         0.01675173 0.12908351 0.18784238 0.07001589\n",
      " 0.00470821 0.00867308 0.02015574 0.0024166  0.0015932  0.31917233\n",
      " 0.23958733]\n"
     ]
    }
   ],
   "source": [
    "print(clf.feature_importances_)"
   ]
  },
  {
   "cell_type": "code",
   "execution_count": 626,
   "metadata": {},
   "outputs": [],
   "source": [
    "predicted = clf.predict(X_test)"
   ]
  },
  {
   "cell_type": "markdown",
   "metadata": {},
   "source": [
    "## Teste com random_state de 84"
   ]
  },
  {
   "cell_type": "code",
   "execution_count": 627,
   "metadata": {},
   "outputs": [],
   "source": [
    "acerto_com_random_state_84 = 1 - (sum([y != y_chapeu for y_chapeu, y in zip(predicted, y_test.values)]) / len(predicted))"
   ]
  },
  {
   "cell_type": "code",
   "execution_count": 628,
   "metadata": {},
   "outputs": [
    {
     "data": {
      "text/plain": [
       "0.7494913874949138"
      ]
     },
     "execution_count": 628,
     "metadata": {},
     "output_type": "execute_result"
    }
   ],
   "source": [
    "acerto_com_random_state_84"
   ]
  },
  {
   "cell_type": "code",
   "execution_count": 574,
   "metadata": {},
   "outputs": [
    {
     "data": {
      "text/plain": [
       "0.7542384375423844"
      ]
     },
     "execution_count": 574,
     "metadata": {},
     "output_type": "execute_result"
    }
   ],
   "source": [
    "acerto"
   ]
  },
  {
   "cell_type": "markdown",
   "metadata": {},
   "source": [
    "# Rodando KNN com as variáveis com maior peso após o Random Forest Classifier"
   ]
  },
  {
   "cell_type": "code",
   "execution_count": 644,
   "metadata": {},
   "outputs": [],
   "source": [
    "X = candidatos_2014[(candidatos_2014['DS_CARGO'] != 'PRESIDENTE')&(candidatos_2014['DS_CARGO'] != 'VICE-PRESIDENTE')][['NR_DESPESA_MAX_CAMPANHA','ST_REELEICAO', 'CD_CARGO', 'TP_AGREMIACAO']]"
   ]
  },
  {
   "cell_type": "code",
   "execution_count": 645,
   "metadata": {},
   "outputs": [],
   "source": [
    "X['ST_REELEICAO'] = X['ST_REELEICAO'].cat.rename_categories([0,1])"
   ]
  },
  {
   "cell_type": "code",
   "execution_count": 646,
   "metadata": {},
   "outputs": [],
   "source": [
    "X.TP_AGREMIACAO = X.TP_AGREMIACAO.cat.codes"
   ]
  },
  {
   "cell_type": "code",
   "execution_count": 647,
   "metadata": {},
   "outputs": [],
   "source": [
    "y = candidatos_2014[(candidatos_2014['DS_CARGO'] != 'PRESIDENTE')&(candidatos_2014['DS_CARGO'] != 'VICE-PRESIDENTE')]['DS_SIT_TOT_TURNO']"
   ]
  },
  {
   "cell_type": "code",
   "execution_count": 648,
   "metadata": {},
   "outputs": [],
   "source": [
    "X_train, X_test, y_train, y_test = train_test_split(X, y, test_size=0.33, random_state=50)"
   ]
  },
  {
   "cell_type": "code",
   "execution_count": 649,
   "metadata": {},
   "outputs": [
    {
     "name": "stdout",
     "output_type": "stream",
     "text": [
      "['#NULO#' 'NÃO ELEITO' 'NÃO ELEITO' ... 'SUPLENTE' 'SUPLENTE'\n",
      " 'ELEITO POR QP']\n"
     ]
    }
   ],
   "source": [
    "from sklearn.neighbors import KNeighborsClassifier\n",
    "\n",
    "model = KNeighborsClassifier(n_neighbors= 1674, weights='distance')\n",
    "\n",
    "# Train the model using the training sets\n",
    "model.fit(X_train, np.array(y_train))\n",
    "\n",
    "#Predict Output\n",
    "predicted= model.predict(X_test) # 0:Overcast, 2:Mild\n",
    "print(predicted)"
   ]
  },
  {
   "cell_type": "code",
   "execution_count": 650,
   "metadata": {},
   "outputs": [
    {
     "data": {
      "text/plain": [
       "array(['#NULO#', 'NÃO ELEITO', 'NÃO ELEITO', ..., 'SUPLENTE', 'SUPLENTE',\n",
       "       'ELEITO POR QP'], dtype=object)"
      ]
     },
     "execution_count": 650,
     "metadata": {},
     "output_type": "execute_result"
    }
   ],
   "source": [
    "novo_y_test = np.array(y_test)\n",
    "novo_y_test"
   ]
  },
  {
   "cell_type": "code",
   "execution_count": 651,
   "metadata": {},
   "outputs": [
    {
     "data": {
      "text/plain": [
       "array(['#NULO#', 'NÃO ELEITO', 'NÃO ELEITO', ..., 'SUPLENTE', 'SUPLENTE',\n",
       "       'ELEITO POR QP'], dtype=object)"
      ]
     },
     "execution_count": 651,
     "metadata": {},
     "output_type": "execute_result"
    }
   ],
   "source": [
    "predicted"
   ]
  },
  {
   "cell_type": "code",
   "execution_count": 652,
   "metadata": {},
   "outputs": [
    {
     "data": {
      "text/plain": [
       "0.8304458304458304"
      ]
     },
     "execution_count": 652,
     "metadata": {},
     "output_type": "execute_result"
    }
   ],
   "source": [
    "1 - sum([y != p for y, p in zip(novo_y_test, predicted)]) /len(predicted)"
   ]
  },
  {
   "cell_type": "code",
   "execution_count": 654,
   "metadata": {},
   "outputs": [
    {
     "ename": "AttributeError",
     "evalue": "type object 'DataFrame' has no attribute 'predicted'",
     "output_type": "error",
     "traceback": [
      "\u001b[1;31m---------------------------------------------------------------------------\u001b[0m",
      "\u001b[1;31mAttributeError\u001b[0m                            Traceback (most recent call last)",
      "\u001b[1;32m<ipython-input-654-8beed7dea27f>\u001b[0m in \u001b[0;36m<module>\u001b[1;34m\u001b[0m\n\u001b[1;32m----> 1\u001b[1;33m \u001b[0mresultado\u001b[0m \u001b[1;33m=\u001b[0m \u001b[0mpd\u001b[0m\u001b[1;33m.\u001b[0m\u001b[0mDataFrame\u001b[0m\u001b[1;33m.\u001b[0m\u001b[0mpredicted\u001b[0m\u001b[1;33m\u001b[0m\u001b[1;33m\u001b[0m\u001b[0m\n\u001b[0m",
      "\u001b[1;31mAttributeError\u001b[0m: type object 'DataFrame' has no attribute 'predicted'"
     ]
    }
   ],
   "source": [
    "resultado = pd.DataFramepredicted"
   ]
  },
  {
   "cell_type": "code",
   "execution_count": null,
   "metadata": {},
   "outputs": [],
   "source": []
  }
 ],
 "metadata": {
  "kernelspec": {
   "display_name": "Python 3",
   "language": "python",
   "name": "python3"
  },
  "language_info": {
   "codemirror_mode": {
    "name": "ipython",
    "version": 3
   },
   "file_extension": ".py",
   "mimetype": "text/x-python",
   "name": "python",
   "nbconvert_exporter": "python",
   "pygments_lexer": "ipython3",
   "version": "3.7.4"
  }
 },
 "nbformat": 4,
 "nbformat_minor": 2
}
